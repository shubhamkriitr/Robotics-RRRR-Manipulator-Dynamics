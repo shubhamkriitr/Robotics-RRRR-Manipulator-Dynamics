{
 "cells": [
  {
   "cell_type": "code",
   "execution_count": 2,
   "metadata": {},
   "outputs": [
    {
     "data": {
      "text/latex": [
       "$$\\left ( duh, \\quad L_{1}, \\quad L_{2}, \\quad L_{3}, \\quad L_{4}\\right )$$"
      ],
      "text/plain": [
       "(duh, L₁, L₂, L₃, L₄)"
      ]
     },
     "metadata": {},
     "output_type": "display_data"
    },
    {
     "data": {
      "text/latex": [
       "$$\\left ( duh, \\quad \\theta_{1}, \\quad \\theta_{2}, \\quad \\theta_{3}, \\quad \\theta_{4}\\right )$$"
      ],
      "text/plain": [
       "(duh, θ₁, θ₂, θ₃, θ₄)"
      ]
     },
     "metadata": {},
     "output_type": "display_data"
    },
    {
     "name": "stdout",
     "output_type": "stream",
     "text": [
      "T01\n"
     ]
    },
    {
     "data": {
      "text/latex": [
       "$$\\left[\\begin{matrix}\\cos{\\left (\\theta_{1} \\right )} & 0 & - \\sin{\\left (\\theta_{1} \\right )} & L_{1} \\cos{\\left (\\theta_{1} \\right )}\\\\\\sin{\\left (\\theta_{1} \\right )} & 0 & \\cos{\\left (\\theta_{1} \\right )} & L_{1} \\sin{\\left (\\theta_{1} \\right )}\\\\0 & -1 & 0 & 0\\\\0 & 0 & 0 & 1\\end{matrix}\\right]$$"
      ],
      "text/plain": [
       "⎡cos(θ₁)  0   -sin(θ₁)  L₁⋅cos(θ₁)⎤\n",
       "⎢                                 ⎥\n",
       "⎢sin(θ₁)  0   cos(θ₁)   L₁⋅sin(θ₁)⎥\n",
       "⎢                                 ⎥\n",
       "⎢   0     -1     0          0     ⎥\n",
       "⎢                                 ⎥\n",
       "⎣   0     0      0          1     ⎦"
      ]
     },
     "metadata": {},
     "output_type": "display_data"
    },
    {
     "name": "stdout",
     "output_type": "stream",
     "text": [
      "T02\n"
     ]
    },
    {
     "data": {
      "text/latex": [
       "$$\\left[\\begin{matrix}\\cos{\\left (\\theta_{1} \\right )} \\cos{\\left (\\theta_{2} \\right )} & - \\sin{\\left (\\theta_{1} \\right )} & \\sin{\\left (\\theta_{2} \\right )} \\cos{\\left (\\theta_{1} \\right )} & L_{1} \\cos{\\left (\\theta_{1} \\right )} + L_{2} \\cos{\\left (\\theta_{1} \\right )} \\cos{\\left (\\theta_{2} \\right )}\\\\\\sin{\\left (\\theta_{1} \\right )} \\cos{\\left (\\theta_{2} \\right )} & \\cos{\\left (\\theta_{1} \\right )} & \\sin{\\left (\\theta_{1} \\right )} \\sin{\\left (\\theta_{2} \\right )} & L_{1} \\sin{\\left (\\theta_{1} \\right )} + L_{2} \\sin{\\left (\\theta_{1} \\right )} \\cos{\\left (\\theta_{2} \\right )}\\\\- \\sin{\\left (\\theta_{2} \\right )} & 0 & \\cos{\\left (\\theta_{2} \\right )} & - L_{2} \\sin{\\left (\\theta_{2} \\right )}\\\\0 & 0 & 0 & 1\\end{matrix}\\right]$$"
      ],
      "text/plain": [
       "⎡cos(θ₁)⋅cos(θ₂)  -sin(θ₁)  sin(θ₂)⋅cos(θ₁)  L₁⋅cos(θ₁) + L₂⋅cos(θ₁)⋅cos(θ₂)⎤\n",
       "⎢                                                                           ⎥\n",
       "⎢sin(θ₁)⋅cos(θ₂)  cos(θ₁)   sin(θ₁)⋅sin(θ₂)  L₁⋅sin(θ₁) + L₂⋅sin(θ₁)⋅cos(θ₂)⎥\n",
       "⎢                                                                           ⎥\n",
       "⎢   -sin(θ₂)         0          cos(θ₂)                -L₂⋅sin(θ₂)          ⎥\n",
       "⎢                                                                           ⎥\n",
       "⎣       0            0             0                        1               ⎦"
      ]
     },
     "metadata": {},
     "output_type": "display_data"
    },
    {
     "name": "stdout",
     "output_type": "stream",
     "text": [
      "T03\n"
     ]
    },
    {
     "data": {
      "text/latex": [
       "$$\\left[\\begin{matrix}- \\sin{\\left (\\theta_{1} \\right )} \\sin{\\left (\\theta_{3} \\right )} + \\cos{\\left (\\theta_{1} \\right )} \\cos{\\left (\\theta_{2} \\right )} \\cos{\\left (\\theta_{3} \\right )} & - \\sin{\\left (\\theta_{2} \\right )} \\cos{\\left (\\theta_{1} \\right )} & - \\sin{\\left (\\theta_{1} \\right )} \\cos{\\left (\\theta_{3} \\right )} - \\sin{\\left (\\theta_{3} \\right )} \\cos{\\left (\\theta_{1} \\right )} \\cos{\\left (\\theta_{2} \\right )} & L_{1} \\cos{\\left (\\theta_{1} \\right )} + L_{2} \\cos{\\left (\\theta_{1} \\right )} \\cos{\\left (\\theta_{2} \\right )} - L_{3} \\sin{\\left (\\theta_{1} \\right )} \\sin{\\left (\\theta_{3} \\right )} + L_{3} \\cos{\\left (\\theta_{1} \\right )} \\cos{\\left (\\theta_{2} \\right )} \\cos{\\left (\\theta_{3} \\right )}\\\\\\sin{\\left (\\theta_{1} \\right )} \\cos{\\left (\\theta_{2} \\right )} \\cos{\\left (\\theta_{3} \\right )} + \\sin{\\left (\\theta_{3} \\right )} \\cos{\\left (\\theta_{1} \\right )} & - \\sin{\\left (\\theta_{1} \\right )} \\sin{\\left (\\theta_{2} \\right )} & - \\sin{\\left (\\theta_{1} \\right )} \\sin{\\left (\\theta_{3} \\right )} \\cos{\\left (\\theta_{2} \\right )} + \\cos{\\left (\\theta_{1} \\right )} \\cos{\\left (\\theta_{3} \\right )} & L_{1} \\sin{\\left (\\theta_{1} \\right )} + L_{2} \\sin{\\left (\\theta_{1} \\right )} \\cos{\\left (\\theta_{2} \\right )} + L_{3} \\sin{\\left (\\theta_{1} \\right )} \\cos{\\left (\\theta_{2} \\right )} \\cos{\\left (\\theta_{3} \\right )} + L_{3} \\sin{\\left (\\theta_{3} \\right )} \\cos{\\left (\\theta_{1} \\right )}\\\\- \\sin{\\left (\\theta_{2} \\right )} \\cos{\\left (\\theta_{3} \\right )} & - \\cos{\\left (\\theta_{2} \\right )} & \\sin{\\left (\\theta_{2} \\right )} \\sin{\\left (\\theta_{3} \\right )} & - L_{2} \\sin{\\left (\\theta_{2} \\right )} - L_{3} \\sin{\\left (\\theta_{2} \\right )} \\cos{\\left (\\theta_{3} \\right )}\\\\0 & 0 & 0 & 1\\end{matrix}\\right]$$"
      ],
      "text/plain": [
       "⎡-sin(θ₁)⋅sin(θ₃) + cos(θ₁)⋅cos(θ₂)⋅cos(θ₃)  -sin(θ₂)⋅cos(θ₁)  -sin(θ₁)⋅cos(θ₃\n",
       "⎢                                                                             \n",
       "⎢sin(θ₁)⋅cos(θ₂)⋅cos(θ₃) + sin(θ₃)⋅cos(θ₁)   -sin(θ₁)⋅sin(θ₂)  -sin(θ₁)⋅sin(θ₃\n",
       "⎢                                                                             \n",
       "⎢             -sin(θ₂)⋅cos(θ₃)                   -cos(θ₂)                   si\n",
       "⎢                                                                             \n",
       "⎣                    0                              0                         \n",
       "\n",
       ") - sin(θ₃)⋅cos(θ₁)⋅cos(θ₂)  L₁⋅cos(θ₁) + L₂⋅cos(θ₁)⋅cos(θ₂) - L₃⋅sin(θ₁)⋅sin(\n",
       "                                                                              \n",
       ")⋅cos(θ₂) + cos(θ₁)⋅cos(θ₃)  L₁⋅sin(θ₁) + L₂⋅sin(θ₁)⋅cos(θ₂) + L₃⋅sin(θ₁)⋅cos(\n",
       "                                                                              \n",
       "n(θ₂)⋅sin(θ₃)                                        -L₂⋅sin(θ₂) - L₃⋅sin(θ₂)⋅\n",
       "                                                                              \n",
       "     0                                                               1        \n",
       "\n",
       "θ₃) + L₃⋅cos(θ₁)⋅cos(θ₂)⋅cos(θ₃)⎤\n",
       "                                ⎥\n",
       "θ₂)⋅cos(θ₃) + L₃⋅sin(θ₃)⋅cos(θ₁)⎥\n",
       "                                ⎥\n",
       "cos(θ₃)                         ⎥\n",
       "                                ⎥\n",
       "                                ⎦"
      ]
     },
     "metadata": {},
     "output_type": "display_data"
    },
    {
     "name": "stdout",
     "output_type": "stream",
     "text": [
      "T04\n"
     ]
    },
    {
     "data": {
      "text/latex": [
       "$$\\left[\\begin{matrix}\\left(- \\sin{\\left (\\theta_{1} \\right )} \\sin{\\left (\\theta_{3} \\right )} + \\cos{\\left (\\theta_{1} \\right )} \\cos{\\left (\\theta_{2} \\right )} \\cos{\\left (\\theta_{3} \\right )}\\right) \\cos{\\left (\\theta_{4} \\right )} - \\sin{\\left (\\theta_{2} \\right )} \\sin{\\left (\\theta_{4} \\right )} \\cos{\\left (\\theta_{1} \\right )} & - \\left(- \\sin{\\left (\\theta_{1} \\right )} \\sin{\\left (\\theta_{3} \\right )} + \\cos{\\left (\\theta_{1} \\right )} \\cos{\\left (\\theta_{2} \\right )} \\cos{\\left (\\theta_{3} \\right )}\\right) \\sin{\\left (\\theta_{4} \\right )} - \\sin{\\left (\\theta_{2} \\right )} \\cos{\\left (\\theta_{1} \\right )} \\cos{\\left (\\theta_{4} \\right )} & - \\sin{\\left (\\theta_{1} \\right )} \\cos{\\left (\\theta_{3} \\right )} - \\sin{\\left (\\theta_{3} \\right )} \\cos{\\left (\\theta_{1} \\right )} \\cos{\\left (\\theta_{2} \\right )} & L_{1} \\cos{\\left (\\theta_{1} \\right )} + L_{2} \\cos{\\left (\\theta_{1} \\right )} \\cos{\\left (\\theta_{2} \\right )} - L_{3} \\sin{\\left (\\theta_{1} \\right )} \\sin{\\left (\\theta_{3} \\right )} + L_{3} \\cos{\\left (\\theta_{1} \\right )} \\cos{\\left (\\theta_{2} \\right )} \\cos{\\left (\\theta_{3} \\right )} + L_{4} \\left(- \\sin{\\left (\\theta_{1} \\right )} \\sin{\\left (\\theta_{3} \\right )} + \\cos{\\left (\\theta_{1} \\right )} \\cos{\\left (\\theta_{2} \\right )} \\cos{\\left (\\theta_{3} \\right )}\\right) \\cos{\\left (\\theta_{4} \\right )} - L_{4} \\sin{\\left (\\theta_{2} \\right )} \\sin{\\left (\\theta_{4} \\right )} \\cos{\\left (\\theta_{1} \\right )}\\\\\\left(\\sin{\\left (\\theta_{1} \\right )} \\cos{\\left (\\theta_{2} \\right )} \\cos{\\left (\\theta_{3} \\right )} + \\sin{\\left (\\theta_{3} \\right )} \\cos{\\left (\\theta_{1} \\right )}\\right) \\cos{\\left (\\theta_{4} \\right )} - \\sin{\\left (\\theta_{1} \\right )} \\sin{\\left (\\theta_{2} \\right )} \\sin{\\left (\\theta_{4} \\right )} & - \\left(\\sin{\\left (\\theta_{1} \\right )} \\cos{\\left (\\theta_{2} \\right )} \\cos{\\left (\\theta_{3} \\right )} + \\sin{\\left (\\theta_{3} \\right )} \\cos{\\left (\\theta_{1} \\right )}\\right) \\sin{\\left (\\theta_{4} \\right )} - \\sin{\\left (\\theta_{1} \\right )} \\sin{\\left (\\theta_{2} \\right )} \\cos{\\left (\\theta_{4} \\right )} & - \\sin{\\left (\\theta_{1} \\right )} \\sin{\\left (\\theta_{3} \\right )} \\cos{\\left (\\theta_{2} \\right )} + \\cos{\\left (\\theta_{1} \\right )} \\cos{\\left (\\theta_{3} \\right )} & L_{1} \\sin{\\left (\\theta_{1} \\right )} + L_{2} \\sin{\\left (\\theta_{1} \\right )} \\cos{\\left (\\theta_{2} \\right )} + L_{3} \\sin{\\left (\\theta_{1} \\right )} \\cos{\\left (\\theta_{2} \\right )} \\cos{\\left (\\theta_{3} \\right )} + L_{3} \\sin{\\left (\\theta_{3} \\right )} \\cos{\\left (\\theta_{1} \\right )} + L_{4} \\left(\\sin{\\left (\\theta_{1} \\right )} \\cos{\\left (\\theta_{2} \\right )} \\cos{\\left (\\theta_{3} \\right )} + \\sin{\\left (\\theta_{3} \\right )} \\cos{\\left (\\theta_{1} \\right )}\\right) \\cos{\\left (\\theta_{4} \\right )} - L_{4} \\sin{\\left (\\theta_{1} \\right )} \\sin{\\left (\\theta_{2} \\right )} \\sin{\\left (\\theta_{4} \\right )}\\\\- \\sin{\\left (\\theta_{2} \\right )} \\cos{\\left (\\theta_{3} \\right )} \\cos{\\left (\\theta_{4} \\right )} - \\sin{\\left (\\theta_{4} \\right )} \\cos{\\left (\\theta_{2} \\right )} & \\sin{\\left (\\theta_{2} \\right )} \\sin{\\left (\\theta_{4} \\right )} \\cos{\\left (\\theta_{3} \\right )} - \\cos{\\left (\\theta_{2} \\right )} \\cos{\\left (\\theta_{4} \\right )} & \\sin{\\left (\\theta_{2} \\right )} \\sin{\\left (\\theta_{3} \\right )} & - L_{2} \\sin{\\left (\\theta_{2} \\right )} - L_{3} \\sin{\\left (\\theta_{2} \\right )} \\cos{\\left (\\theta_{3} \\right )} - L_{4} \\sin{\\left (\\theta_{2} \\right )} \\cos{\\left (\\theta_{3} \\right )} \\cos{\\left (\\theta_{4} \\right )} - L_{4} \\sin{\\left (\\theta_{4} \\right )} \\cos{\\left (\\theta_{2} \\right )}\\\\0 & 0 & 0 & 1\\end{matrix}\\right]$$"
      ],
      "text/plain": [
       "⎡(-sin(θ₁)⋅sin(θ₃) + cos(θ₁)⋅cos(θ₂)⋅cos(θ₃))⋅cos(θ₄) - sin(θ₂)⋅sin(θ₄)⋅cos(θ₁\n",
       "⎢                                                                             \n",
       "⎢(sin(θ₁)⋅cos(θ₂)⋅cos(θ₃) + sin(θ₃)⋅cos(θ₁))⋅cos(θ₄) - sin(θ₁)⋅sin(θ₂)⋅sin(θ₄)\n",
       "⎢                                                                             \n",
       "⎢                  -sin(θ₂)⋅cos(θ₃)⋅cos(θ₄) - sin(θ₄)⋅cos(θ₂)                 \n",
       "⎢                                                                             \n",
       "⎣                                      0                                      \n",
       "\n",
       ")  -(-sin(θ₁)⋅sin(θ₃) + cos(θ₁)⋅cos(θ₂)⋅cos(θ₃))⋅sin(θ₄) - sin(θ₂)⋅cos(θ₁)⋅cos\n",
       "                                                                              \n",
       "   -(sin(θ₁)⋅cos(θ₂)⋅cos(θ₃) + sin(θ₃)⋅cos(θ₁))⋅sin(θ₄) - sin(θ₁)⋅sin(θ₂)⋅cos(\n",
       "                                                                              \n",
       "                      sin(θ₂)⋅sin(θ₄)⋅cos(θ₃) - cos(θ₂)⋅cos(θ₄)               \n",
       "                                                                              \n",
       "                                          0                                   \n",
       "\n",
       "(θ₄)  -sin(θ₁)⋅cos(θ₃) - sin(θ₃)⋅cos(θ₁)⋅cos(θ₂)  L₁⋅cos(θ₁) + L₂⋅cos(θ₁)⋅cos(\n",
       "                                                                              \n",
       "θ₄)   -sin(θ₁)⋅sin(θ₃)⋅cos(θ₂) + cos(θ₁)⋅cos(θ₃)  L₁⋅sin(θ₁) + L₂⋅sin(θ₁)⋅cos(\n",
       "                                                                              \n",
       "                   sin(θ₂)⋅sin(θ₃)                                            \n",
       "                                                                              \n",
       "                          0                                                   \n",
       "\n",
       "θ₂) - L₃⋅sin(θ₁)⋅sin(θ₃) + L₃⋅cos(θ₁)⋅cos(θ₂)⋅cos(θ₃) + L₄⋅(-sin(θ₁)⋅sin(θ₃) +\n",
       "                                                                              \n",
       "θ₂) + L₃⋅sin(θ₁)⋅cos(θ₂)⋅cos(θ₃) + L₃⋅sin(θ₃)⋅cos(θ₁) + L₄⋅(sin(θ₁)⋅cos(θ₂)⋅co\n",
       "                                                                              \n",
       "               -L₂⋅sin(θ₂) - L₃⋅sin(θ₂)⋅cos(θ₃) - L₄⋅sin(θ₂)⋅cos(θ₃)⋅cos(θ₄) -\n",
       "                                                                              \n",
       "                                                       1                      \n",
       "\n",
       " cos(θ₁)⋅cos(θ₂)⋅cos(θ₃))⋅cos(θ₄) - L₄⋅sin(θ₂)⋅sin(θ₄)⋅cos(θ₁)⎤\n",
       "                                                              ⎥\n",
       "s(θ₃) + sin(θ₃)⋅cos(θ₁))⋅cos(θ₄) - L₄⋅sin(θ₁)⋅sin(θ₂)⋅sin(θ₄) ⎥\n",
       "                                                              ⎥\n",
       " L₄⋅sin(θ₄)⋅cos(θ₂)                                           ⎥\n",
       "                                                              ⎥\n",
       "                                                              ⎦"
      ]
     },
     "metadata": {},
     "output_type": "display_data"
    },
    {
     "name": "stdout",
     "output_type": "stream",
     "text": [
      "Jacobian\n",
      "J1\n"
     ]
    },
    {
     "data": {
      "text/latex": [
       "$$\\left[\\begin{matrix}- L_{1} \\sin{\\left (\\theta_{1} \\right )} & 0 & 0 & 0\\\\L_{1} \\cos{\\left (\\theta_{1} \\right )} & 0 & 0 & 0\\\\0 & 0 & 0 & 0\\\\0 & 0 & 0 & 0\\\\0 & 0 & 0 & 0\\\\1 & 0 & 0 & 0\\end{matrix}\\right]$$"
      ],
      "text/plain": [
       "⎡-L₁⋅sin(θ₁)  0  0  0⎤\n",
       "⎢                    ⎥\n",
       "⎢L₁⋅cos(θ₁)   0  0  0⎥\n",
       "⎢                    ⎥\n",
       "⎢     0       0  0  0⎥\n",
       "⎢                    ⎥\n",
       "⎢     0       0  0  0⎥\n",
       "⎢                    ⎥\n",
       "⎢     0       0  0  0⎥\n",
       "⎢                    ⎥\n",
       "⎣     1       0  0  0⎦"
      ]
     },
     "metadata": {},
     "output_type": "display_data"
    },
    {
     "name": "stdout",
     "output_type": "stream",
     "text": [
      "Jvc1\n"
     ]
    },
    {
     "data": {
      "text/latex": [
       "$$\\left[\\begin{matrix}- L_{c1} \\sin{\\left (\\theta_{1} \\right )} & 0 & 0 & 0\\\\L_{c1} \\cos{\\left (\\theta_{1} \\right )} & 0 & 0 & 0\\\\0 & 0 & 0 & 0\\end{matrix}\\right]$$"
      ],
      "text/plain": [
       "⎡-L_c1⋅sin(θ₁)  0  0  0⎤\n",
       "⎢                      ⎥\n",
       "⎢L_c1⋅cos(θ₁)   0  0  0⎥\n",
       "⎢                      ⎥\n",
       "⎣      0        0  0  0⎦"
      ]
     },
     "metadata": {},
     "output_type": "display_data"
    },
    {
     "name": "stdout",
     "output_type": "stream",
     "text": [
      "Jwc1\n"
     ]
    },
    {
     "data": {
      "text/latex": [
       "$$\\left[\\begin{matrix}0 & 0 & 0 & 0\\\\0 & 0 & 0 & 0\\\\1 & 0 & 0 & 0\\end{matrix}\\right]$$"
      ],
      "text/plain": [
       "⎡0  0  0  0⎤\n",
       "⎢          ⎥\n",
       "⎢0  0  0  0⎥\n",
       "⎢          ⎥\n",
       "⎣1  0  0  0⎦"
      ]
     },
     "metadata": {},
     "output_type": "display_data"
    },
    {
     "name": "stdout",
     "output_type": "stream",
     "text": [
      "J2\n"
     ]
    },
    {
     "data": {
      "text/latex": [
       "$$\\left[\\begin{matrix}- L_{1} \\sin{\\left (\\theta_{1} \\right )} - L_{2} \\sin{\\left (\\theta_{1} \\right )} \\cos{\\left (\\theta_{2} \\right )} & - L_{2} \\sin{\\left (\\theta_{2} \\right )} \\cos{\\left (\\theta_{1} \\right )} & 0 & 0\\\\L_{1} \\cos{\\left (\\theta_{1} \\right )} + L_{2} \\cos{\\left (\\theta_{1} \\right )} \\cos{\\left (\\theta_{2} \\right )} & - L_{2} \\sin{\\left (\\theta_{1} \\right )} \\sin{\\left (\\theta_{2} \\right )} & 0 & 0\\\\0 & - L_{2} \\sin^{2}{\\left (\\theta_{1} \\right )} \\cos{\\left (\\theta_{2} \\right )} - L_{2} \\cos^{2}{\\left (\\theta_{1} \\right )} \\cos{\\left (\\theta_{2} \\right )} & 0 & 0\\\\0 & - \\sin{\\left (\\theta_{1} \\right )} & 0 & 0\\\\0 & \\cos{\\left (\\theta_{1} \\right )} & 0 & 0\\\\1 & 0 & 0 & 0\\end{matrix}\\right]$$"
      ],
      "text/plain": [
       "⎡-L₁⋅sin(θ₁) - L₂⋅sin(θ₁)⋅cos(θ₂)              -L₂⋅sin(θ₂)⋅cos(θ₁)            \n",
       "⎢                                                                             \n",
       "⎢L₁⋅cos(θ₁) + L₂⋅cos(θ₁)⋅cos(θ₂)               -L₂⋅sin(θ₁)⋅sin(θ₂)            \n",
       "⎢                                                                             \n",
       "⎢                                          2                     2            \n",
       "⎢               0                  - L₂⋅sin (θ₁)⋅cos(θ₂) - L₂⋅cos (θ₁)⋅cos(θ₂)\n",
       "⎢                                                                             \n",
       "⎢               0                                   -sin(θ₁)                  \n",
       "⎢                                                                             \n",
       "⎢               0                                    cos(θ₁)                  \n",
       "⎢                                                                             \n",
       "⎣               1                                       0                     \n",
       "\n",
       "  0  0⎤\n",
       "      ⎥\n",
       "  0  0⎥\n",
       "      ⎥\n",
       "      ⎥\n",
       "  0  0⎥\n",
       "      ⎥\n",
       "  0  0⎥\n",
       "      ⎥\n",
       "  0  0⎥\n",
       "      ⎥\n",
       "  0  0⎦"
      ]
     },
     "metadata": {},
     "output_type": "display_data"
    },
    {
     "name": "stdout",
     "output_type": "stream",
     "text": [
      "Jvc2\n"
     ]
    },
    {
     "data": {
      "text/latex": [
       "$$\\left[\\begin{matrix}- L_{1} \\sin{\\left (\\theta_{1} \\right )} - L_{c2} \\sin{\\left (\\theta_{1} \\right )} \\cos{\\left (\\theta_{2} \\right )} & - L_{c2} \\sin{\\left (\\theta_{2} \\right )} \\cos{\\left (\\theta_{1} \\right )} & 0 & 0\\\\L_{1} \\cos{\\left (\\theta_{1} \\right )} + L_{c2} \\cos{\\left (\\theta_{1} \\right )} \\cos{\\left (\\theta_{2} \\right )} & - L_{c2} \\sin{\\left (\\theta_{1} \\right )} \\sin{\\left (\\theta_{2} \\right )} & 0 & 0\\\\0 & - L_{c2} \\sin^{2}{\\left (\\theta_{1} \\right )} \\cos{\\left (\\theta_{2} \\right )} - L_{c2} \\cos^{2}{\\left (\\theta_{1} \\right )} \\cos{\\left (\\theta_{2} \\right )} & 0 & 0\\end{matrix}\\right]$$"
      ],
      "text/plain": [
       "⎡-L₁⋅sin(θ₁) - L_c2⋅sin(θ₁)⋅cos(θ₂)               -L_c2⋅sin(θ₂)⋅cos(θ₁)       \n",
       "⎢                                                                             \n",
       "⎢L₁⋅cos(θ₁) + L_c2⋅cos(θ₁)⋅cos(θ₂)                -L_c2⋅sin(θ₁)⋅sin(θ₂)       \n",
       "⎢                                                                             \n",
       "⎢                                              2                       2      \n",
       "⎣                0                   - L_c2⋅sin (θ₁)⋅cos(θ₂) - L_c2⋅cos (θ₁)⋅c\n",
       "\n",
       "        0  0⎤\n",
       "            ⎥\n",
       "        0  0⎥\n",
       "            ⎥\n",
       "            ⎥\n",
       "os(θ₂)  0  0⎦"
      ]
     },
     "metadata": {},
     "output_type": "display_data"
    },
    {
     "name": "stdout",
     "output_type": "stream",
     "text": [
      "Jwc2\n"
     ]
    },
    {
     "data": {
      "text/latex": [
       "$$\\left[\\begin{matrix}0 & - \\sin{\\left (\\theta_{1} \\right )} & 0 & 0\\\\0 & \\cos{\\left (\\theta_{1} \\right )} & 0 & 0\\\\1 & 0 & 0 & 0\\end{matrix}\\right]$$"
      ],
      "text/plain": [
       "⎡0  -sin(θ₁)  0  0⎤\n",
       "⎢                 ⎥\n",
       "⎢0  cos(θ₁)   0  0⎥\n",
       "⎢                 ⎥\n",
       "⎣1     0      0  0⎦"
      ]
     },
     "metadata": {},
     "output_type": "display_data"
    },
    {
     "name": "stdout",
     "output_type": "stream",
     "text": [
      "J3\n"
     ]
    },
    {
     "data": {
      "text/latex": [
       "$$\\left[\\begin{matrix}- L_{1} \\sin{\\left (\\theta_{1} \\right )} - L_{2} \\sin{\\left (\\theta_{1} \\right )} \\cos{\\left (\\theta_{2} \\right )} - L_{3} \\sin{\\left (\\theta_{1} \\right )} \\cos{\\left (\\theta_{2} \\right )} \\cos{\\left (\\theta_{3} \\right )} - L_{3} \\sin{\\left (\\theta_{3} \\right )} \\cos{\\left (\\theta_{1} \\right )} & \\left(- L_{2} \\sin{\\left (\\theta_{2} \\right )} - L_{3} \\sin{\\left (\\theta_{2} \\right )} \\cos{\\left (\\theta_{3} \\right )}\\right) \\cos{\\left (\\theta_{1} \\right )} & - L_{3} \\sin{\\left (\\theta_{1} \\right )} \\sin^{2}{\\left (\\theta_{2} \\right )} \\cos{\\left (\\theta_{3} \\right )} - \\left(L_{3} \\sin{\\left (\\theta_{1} \\right )} \\cos{\\left (\\theta_{2} \\right )} \\cos{\\left (\\theta_{3} \\right )} + L_{3} \\sin{\\left (\\theta_{3} \\right )} \\cos{\\left (\\theta_{1} \\right )}\\right) \\cos{\\left (\\theta_{2} \\right )} & 0\\\\L_{1} \\cos{\\left (\\theta_{1} \\right )} + L_{2} \\cos{\\left (\\theta_{1} \\right )} \\cos{\\left (\\theta_{2} \\right )} - L_{3} \\sin{\\left (\\theta_{1} \\right )} \\sin{\\left (\\theta_{3} \\right )} + L_{3} \\cos{\\left (\\theta_{1} \\right )} \\cos{\\left (\\theta_{2} \\right )} \\cos{\\left (\\theta_{3} \\right )} & \\left(- L_{2} \\sin{\\left (\\theta_{2} \\right )} - L_{3} \\sin{\\left (\\theta_{2} \\right )} \\cos{\\left (\\theta_{3} \\right )}\\right) \\sin{\\left (\\theta_{1} \\right )} & L_{3} \\sin^{2}{\\left (\\theta_{2} \\right )} \\cos{\\left (\\theta_{1} \\right )} \\cos{\\left (\\theta_{3} \\right )} + \\left(- L_{3} \\sin{\\left (\\theta_{1} \\right )} \\sin{\\left (\\theta_{3} \\right )} + L_{3} \\cos{\\left (\\theta_{1} \\right )} \\cos{\\left (\\theta_{2} \\right )} \\cos{\\left (\\theta_{3} \\right )}\\right) \\cos{\\left (\\theta_{2} \\right )} & 0\\\\0 & - \\left(L_{2} \\sin{\\left (\\theta_{1} \\right )} \\cos{\\left (\\theta_{2} \\right )} + L_{3} \\sin{\\left (\\theta_{1} \\right )} \\cos{\\left (\\theta_{2} \\right )} \\cos{\\left (\\theta_{3} \\right )} + L_{3} \\sin{\\left (\\theta_{3} \\right )} \\cos{\\left (\\theta_{1} \\right )}\\right) \\sin{\\left (\\theta_{1} \\right )} - \\left(L_{2} \\cos{\\left (\\theta_{1} \\right )} \\cos{\\left (\\theta_{2} \\right )} - L_{3} \\sin{\\left (\\theta_{1} \\right )} \\sin{\\left (\\theta_{3} \\right )} + L_{3} \\cos{\\left (\\theta_{1} \\right )} \\cos{\\left (\\theta_{2} \\right )} \\cos{\\left (\\theta_{3} \\right )}\\right) \\cos{\\left (\\theta_{1} \\right )} & - \\left(- L_{3} \\sin{\\left (\\theta_{1} \\right )} \\sin{\\left (\\theta_{3} \\right )} + L_{3} \\cos{\\left (\\theta_{1} \\right )} \\cos{\\left (\\theta_{2} \\right )} \\cos{\\left (\\theta_{3} \\right )}\\right) \\sin{\\left (\\theta_{1} \\right )} \\sin{\\left (\\theta_{2} \\right )} + \\left(L_{3} \\sin{\\left (\\theta_{1} \\right )} \\cos{\\left (\\theta_{2} \\right )} \\cos{\\left (\\theta_{3} \\right )} + L_{3} \\sin{\\left (\\theta_{3} \\right )} \\cos{\\left (\\theta_{1} \\right )}\\right) \\sin{\\left (\\theta_{2} \\right )} \\cos{\\left (\\theta_{1} \\right )} & 0\\\\0 & - \\sin{\\left (\\theta_{1} \\right )} & \\sin{\\left (\\theta_{2} \\right )} \\cos{\\left (\\theta_{1} \\right )} & 0\\\\0 & \\cos{\\left (\\theta_{1} \\right )} & \\sin{\\left (\\theta_{1} \\right )} \\sin{\\left (\\theta_{2} \\right )} & 0\\\\1 & 0 & \\cos{\\left (\\theta_{2} \\right )} & 0\\end{matrix}\\right]$$"
      ],
      "text/plain": [
       "⎡                                                                             \n",
       "⎢-L₁⋅sin(θ₁) - L₂⋅sin(θ₁)⋅cos(θ₂) - L₃⋅sin(θ₁)⋅cos(θ₂)⋅cos(θ₃) - L₃⋅sin(θ₃)⋅co\n",
       "⎢                                                                             \n",
       "⎢                                                                             \n",
       "⎢L₁⋅cos(θ₁) + L₂⋅cos(θ₁)⋅cos(θ₂) - L₃⋅sin(θ₁)⋅sin(θ₃) + L₃⋅cos(θ₁)⋅cos(θ₂)⋅cos\n",
       "⎢                                                                             \n",
       "⎢                                        0                                    \n",
       "⎢                                                                             \n",
       "⎢                                        0                                    \n",
       "⎢                                                                             \n",
       "⎢                                        0                                    \n",
       "⎢                                                                             \n",
       "⎣                                        1                                    \n",
       "\n",
       "                                                                              \n",
       "s(θ₁)                                                             (-L₂⋅sin(θ₂)\n",
       "                                                                              \n",
       "                                                                              \n",
       "(θ₃)                                                              (-L₂⋅sin(θ₂)\n",
       "                                                                              \n",
       "       -(L₂⋅sin(θ₁)⋅cos(θ₂) + L₃⋅sin(θ₁)⋅cos(θ₂)⋅cos(θ₃) + L₃⋅sin(θ₃)⋅cos(θ₁))\n",
       "                                                                              \n",
       "                                                                              \n",
       "                                                                              \n",
       "                                                                              \n",
       "                                                                              \n",
       "                                                                              \n",
       "\n",
       "                                                                              \n",
       " - L₃⋅sin(θ₂)⋅cos(θ₃))⋅cos(θ₁)                                                \n",
       "                                                                              \n",
       "                                                                              \n",
       " - L₃⋅sin(θ₂)⋅cos(θ₃))⋅sin(θ₁)                                                \n",
       "                                                                              \n",
       "⋅sin(θ₁) - (L₂⋅cos(θ₁)⋅cos(θ₂) - L₃⋅sin(θ₁)⋅sin(θ₃) + L₃⋅cos(θ₁)⋅cos(θ₂)⋅cos(θ\n",
       "                                                                              \n",
       "     -sin(θ₁)                                                                 \n",
       "                                                                              \n",
       "     cos(θ₁)                                                                  \n",
       "                                                                              \n",
       "        0                                                                     \n",
       "\n",
       "                                                    2                         \n",
       "                                    - L₃⋅sin(θ₁)⋅sin (θ₂)⋅cos(θ₃) - (L₃⋅sin(θ₁\n",
       "                                                                              \n",
       "                                          2                                   \n",
       "                                    L₃⋅sin (θ₂)⋅cos(θ₁)⋅cos(θ₃) + (-L₃⋅sin(θ₁)\n",
       "                                                                              \n",
       "₃))⋅cos(θ₁)  -(-L₃⋅sin(θ₁)⋅sin(θ₃) + L₃⋅cos(θ₁)⋅cos(θ₂)⋅cos(θ₃))⋅sin(θ₁)⋅sin(θ\n",
       "                                                                              \n",
       "                                                                         sin(θ\n",
       "                                                                              \n",
       "                                                                         sin(θ\n",
       "                                                                              \n",
       "                                                                             c\n",
       "\n",
       "                                                                         ⎤\n",
       ")⋅cos(θ₂)⋅cos(θ₃) + L₃⋅sin(θ₃)⋅cos(θ₁))⋅cos(θ₂)                         0⎥\n",
       "                                                                         ⎥\n",
       "                                                                         ⎥\n",
       "⋅sin(θ₃) + L₃⋅cos(θ₁)⋅cos(θ₂)⋅cos(θ₃))⋅cos(θ₂)                          0⎥\n",
       "                                                                         ⎥\n",
       "₂) + (L₃⋅sin(θ₁)⋅cos(θ₂)⋅cos(θ₃) + L₃⋅sin(θ₃)⋅cos(θ₁))⋅sin(θ₂)⋅cos(θ₁)  0⎥\n",
       "                                                                         ⎥\n",
       "₂)⋅cos(θ₁)                                                              0⎥\n",
       "                                                                         ⎥\n",
       "₁)⋅sin(θ₂)                                                              0⎥\n",
       "                                                                         ⎥\n",
       "os(θ₂)                                                                  0⎦"
      ]
     },
     "metadata": {},
     "output_type": "display_data"
    },
    {
     "name": "stdout",
     "output_type": "stream",
     "text": [
      "Jvc3\n"
     ]
    },
    {
     "data": {
      "text/latex": [
       "$$\\left[\\begin{matrix}- L_{1} \\sin{\\left (\\theta_{1} \\right )} - L_{2} \\sin{\\left (\\theta_{1} \\right )} \\cos{\\left (\\theta_{2} \\right )} - L_{c3} \\sin{\\left (\\theta_{1} \\right )} \\cos{\\left (\\theta_{2} \\right )} \\cos{\\left (\\theta_{3} \\right )} - L_{c3} \\sin{\\left (\\theta_{3} \\right )} \\cos{\\left (\\theta_{1} \\right )} & \\left(- L_{2} \\sin{\\left (\\theta_{2} \\right )} - L_{c3} \\sin{\\left (\\theta_{2} \\right )} \\cos{\\left (\\theta_{3} \\right )}\\right) \\cos{\\left (\\theta_{1} \\right )} & - L_{c3} \\sin{\\left (\\theta_{1} \\right )} \\sin^{2}{\\left (\\theta_{2} \\right )} \\cos{\\left (\\theta_{3} \\right )} - \\left(L_{c3} \\sin{\\left (\\theta_{1} \\right )} \\cos{\\left (\\theta_{2} \\right )} \\cos{\\left (\\theta_{3} \\right )} + L_{c3} \\sin{\\left (\\theta_{3} \\right )} \\cos{\\left (\\theta_{1} \\right )}\\right) \\cos{\\left (\\theta_{2} \\right )} & 0\\\\L_{1} \\cos{\\left (\\theta_{1} \\right )} + L_{2} \\cos{\\left (\\theta_{1} \\right )} \\cos{\\left (\\theta_{2} \\right )} - L_{c3} \\sin{\\left (\\theta_{1} \\right )} \\sin{\\left (\\theta_{3} \\right )} + L_{c3} \\cos{\\left (\\theta_{1} \\right )} \\cos{\\left (\\theta_{2} \\right )} \\cos{\\left (\\theta_{3} \\right )} & \\left(- L_{2} \\sin{\\left (\\theta_{2} \\right )} - L_{c3} \\sin{\\left (\\theta_{2} \\right )} \\cos{\\left (\\theta_{3} \\right )}\\right) \\sin{\\left (\\theta_{1} \\right )} & L_{c3} \\sin^{2}{\\left (\\theta_{2} \\right )} \\cos{\\left (\\theta_{1} \\right )} \\cos{\\left (\\theta_{3} \\right )} + \\left(- L_{c3} \\sin{\\left (\\theta_{1} \\right )} \\sin{\\left (\\theta_{3} \\right )} + L_{c3} \\cos{\\left (\\theta_{1} \\right )} \\cos{\\left (\\theta_{2} \\right )} \\cos{\\left (\\theta_{3} \\right )}\\right) \\cos{\\left (\\theta_{2} \\right )} & 0\\\\0 & - \\left(L_{2} \\sin{\\left (\\theta_{1} \\right )} \\cos{\\left (\\theta_{2} \\right )} + L_{c3} \\sin{\\left (\\theta_{1} \\right )} \\cos{\\left (\\theta_{2} \\right )} \\cos{\\left (\\theta_{3} \\right )} + L_{c3} \\sin{\\left (\\theta_{3} \\right )} \\cos{\\left (\\theta_{1} \\right )}\\right) \\sin{\\left (\\theta_{1} \\right )} - \\left(L_{2} \\cos{\\left (\\theta_{1} \\right )} \\cos{\\left (\\theta_{2} \\right )} - L_{c3} \\sin{\\left (\\theta_{1} \\right )} \\sin{\\left (\\theta_{3} \\right )} + L_{c3} \\cos{\\left (\\theta_{1} \\right )} \\cos{\\left (\\theta_{2} \\right )} \\cos{\\left (\\theta_{3} \\right )}\\right) \\cos{\\left (\\theta_{1} \\right )} & - \\left(- L_{c3} \\sin{\\left (\\theta_{1} \\right )} \\sin{\\left (\\theta_{3} \\right )} + L_{c3} \\cos{\\left (\\theta_{1} \\right )} \\cos{\\left (\\theta_{2} \\right )} \\cos{\\left (\\theta_{3} \\right )}\\right) \\sin{\\left (\\theta_{1} \\right )} \\sin{\\left (\\theta_{2} \\right )} + \\left(L_{c3} \\sin{\\left (\\theta_{1} \\right )} \\cos{\\left (\\theta_{2} \\right )} \\cos{\\left (\\theta_{3} \\right )} + L_{c3} \\sin{\\left (\\theta_{3} \\right )} \\cos{\\left (\\theta_{1} \\right )}\\right) \\sin{\\left (\\theta_{2} \\right )} \\cos{\\left (\\theta_{1} \\right )} & 0\\end{matrix}\\right]$$"
      ],
      "text/plain": [
       "⎡                                                                             \n",
       "⎢-L₁⋅sin(θ₁) - L₂⋅sin(θ₁)⋅cos(θ₂) - L_c3⋅sin(θ₁)⋅cos(θ₂)⋅cos(θ₃) - L_c3⋅sin(θ₃\n",
       "⎢                                                                             \n",
       "⎢                                                                             \n",
       "⎢L₁⋅cos(θ₁) + L₂⋅cos(θ₁)⋅cos(θ₂) - L_c3⋅sin(θ₁)⋅sin(θ₃) + L_c3⋅cos(θ₁)⋅cos(θ₂)\n",
       "⎢                                                                             \n",
       "⎣                                          0                                  \n",
       "\n",
       "                                                                              \n",
       ")⋅cos(θ₁)                                                                (-L₂⋅\n",
       "                                                                              \n",
       "                                                                              \n",
       "⋅cos(θ₃)                                                                 (-L₂⋅\n",
       "                                                                              \n",
       "           -(L₂⋅sin(θ₁)⋅cos(θ₂) + L_c3⋅sin(θ₁)⋅cos(θ₂)⋅cos(θ₃) + L_c3⋅sin(θ₃)⋅\n",
       "\n",
       "                                                                              \n",
       "sin(θ₂) - L_c3⋅sin(θ₂)⋅cos(θ₃))⋅cos(θ₁)                                       \n",
       "                                                                              \n",
       "                                                                              \n",
       "sin(θ₂) - L_c3⋅sin(θ₂)⋅cos(θ₃))⋅sin(θ₁)                                       \n",
       "                                                                              \n",
       "cos(θ₁))⋅sin(θ₁) - (L₂⋅cos(θ₁)⋅cos(θ₂) - L_c3⋅sin(θ₁)⋅sin(θ₃) + L_c3⋅cos(θ₁)⋅c\n",
       "\n",
       "                                                                   2          \n",
       "                                                 - L_c3⋅sin(θ₁)⋅sin (θ₂)⋅cos(θ\n",
       "                                                                              \n",
       "                                                         2                    \n",
       "                                                 L_c3⋅sin (θ₂)⋅cos(θ₁)⋅cos(θ₃)\n",
       "                                                                              \n",
       "os(θ₂)⋅cos(θ₃))⋅cos(θ₁)  -(-L_c3⋅sin(θ₁)⋅sin(θ₃) + L_c3⋅cos(θ₁)⋅cos(θ₂)⋅cos(θ₃\n",
       "\n",
       "                                                                              \n",
       "₃) - (L_c3⋅sin(θ₁)⋅cos(θ₂)⋅cos(θ₃) + L_c3⋅sin(θ₃)⋅cos(θ₁))⋅cos(θ₂)            \n",
       "                                                                              \n",
       "                                                                              \n",
       " + (-L_c3⋅sin(θ₁)⋅sin(θ₃) + L_c3⋅cos(θ₁)⋅cos(θ₂)⋅cos(θ₃))⋅cos(θ₂)             \n",
       "                                                                              \n",
       "))⋅sin(θ₁)⋅sin(θ₂) + (L_c3⋅sin(θ₁)⋅cos(θ₂)⋅cos(θ₃) + L_c3⋅sin(θ₃)⋅cos(θ₁))⋅sin\n",
       "\n",
       "               ⎤\n",
       "              0⎥\n",
       "               ⎥\n",
       "               ⎥\n",
       "              0⎥\n",
       "               ⎥\n",
       "(θ₂)⋅cos(θ₁)  0⎦"
      ]
     },
     "metadata": {},
     "output_type": "display_data"
    },
    {
     "name": "stdout",
     "output_type": "stream",
     "text": [
      "Jwc3\n"
     ]
    },
    {
     "data": {
      "text/latex": [
       "$$\\left[\\begin{matrix}0 & - \\sin{\\left (\\theta_{1} \\right )} & \\sin{\\left (\\theta_{2} \\right )} \\cos{\\left (\\theta_{1} \\right )} & 0\\\\0 & \\cos{\\left (\\theta_{1} \\right )} & \\sin{\\left (\\theta_{1} \\right )} \\sin{\\left (\\theta_{2} \\right )} & 0\\\\1 & 0 & \\cos{\\left (\\theta_{2} \\right )} & 0\\end{matrix}\\right]$$"
      ],
      "text/plain": [
       "⎡0  -sin(θ₁)  sin(θ₂)⋅cos(θ₁)  0⎤\n",
       "⎢                               ⎥\n",
       "⎢0  cos(θ₁)   sin(θ₁)⋅sin(θ₂)  0⎥\n",
       "⎢                               ⎥\n",
       "⎣1     0          cos(θ₂)      0⎦"
      ]
     },
     "metadata": {},
     "output_type": "display_data"
    },
    {
     "name": "stdout",
     "output_type": "stream",
     "text": [
      "J4\n"
     ]
    },
    {
     "data": {
      "text/latex": [
       "$$\\left[\\begin{matrix}- L_{1} \\sin{\\left (\\theta_{1} \\right )} - L_{2} \\sin{\\left (\\theta_{1} \\right )} \\cos{\\left (\\theta_{2} \\right )} - L_{3} \\sin{\\left (\\theta_{1} \\right )} \\cos{\\left (\\theta_{2} \\right )} \\cos{\\left (\\theta_{3} \\right )} - L_{3} \\sin{\\left (\\theta_{3} \\right )} \\cos{\\left (\\theta_{1} \\right )} - L_{4} \\left(\\sin{\\left (\\theta_{1} \\right )} \\cos{\\left (\\theta_{2} \\right )} \\cos{\\left (\\theta_{3} \\right )} + \\sin{\\left (\\theta_{3} \\right )} \\cos{\\left (\\theta_{1} \\right )}\\right) \\cos{\\left (\\theta_{4} \\right )} + L_{4} \\sin{\\left (\\theta_{1} \\right )} \\sin{\\left (\\theta_{2} \\right )} \\sin{\\left (\\theta_{4} \\right )} & \\left(- L_{2} \\sin{\\left (\\theta_{2} \\right )} - L_{3} \\sin{\\left (\\theta_{2} \\right )} \\cos{\\left (\\theta_{3} \\right )} - L_{4} \\sin{\\left (\\theta_{2} \\right )} \\cos{\\left (\\theta_{3} \\right )} \\cos{\\left (\\theta_{4} \\right )} - L_{4} \\sin{\\left (\\theta_{4} \\right )} \\cos{\\left (\\theta_{2} \\right )}\\right) \\cos{\\left (\\theta_{1} \\right )} & \\left(- L_{3} \\sin{\\left (\\theta_{2} \\right )} \\cos{\\left (\\theta_{3} \\right )} - L_{4} \\sin{\\left (\\theta_{2} \\right )} \\cos{\\left (\\theta_{3} \\right )} \\cos{\\left (\\theta_{4} \\right )} - L_{4} \\sin{\\left (\\theta_{4} \\right )} \\cos{\\left (\\theta_{2} \\right )}\\right) \\sin{\\left (\\theta_{1} \\right )} \\sin{\\left (\\theta_{2} \\right )} - \\left(L_{3} \\sin{\\left (\\theta_{1} \\right )} \\cos{\\left (\\theta_{2} \\right )} \\cos{\\left (\\theta_{3} \\right )} + L_{3} \\sin{\\left (\\theta_{3} \\right )} \\cos{\\left (\\theta_{1} \\right )} + L_{4} \\left(\\sin{\\left (\\theta_{1} \\right )} \\cos{\\left (\\theta_{2} \\right )} \\cos{\\left (\\theta_{3} \\right )} + \\sin{\\left (\\theta_{3} \\right )} \\cos{\\left (\\theta_{1} \\right )}\\right) \\cos{\\left (\\theta_{4} \\right )} - L_{4} \\sin{\\left (\\theta_{1} \\right )} \\sin{\\left (\\theta_{2} \\right )} \\sin{\\left (\\theta_{4} \\right )}\\right) \\cos{\\left (\\theta_{2} \\right )} & - \\left(L_{4} \\left(\\sin{\\left (\\theta_{1} \\right )} \\cos{\\left (\\theta_{2} \\right )} \\cos{\\left (\\theta_{3} \\right )} + \\sin{\\left (\\theta_{3} \\right )} \\cos{\\left (\\theta_{1} \\right )}\\right) \\cos{\\left (\\theta_{4} \\right )} - L_{4} \\sin{\\left (\\theta_{1} \\right )} \\sin{\\left (\\theta_{2} \\right )} \\sin{\\left (\\theta_{4} \\right )}\\right) \\sin{\\left (\\theta_{2} \\right )} \\sin{\\left (\\theta_{3} \\right )} + \\left(- \\sin{\\left (\\theta_{1} \\right )} \\sin{\\left (\\theta_{3} \\right )} \\cos{\\left (\\theta_{2} \\right )} + \\cos{\\left (\\theta_{1} \\right )} \\cos{\\left (\\theta_{3} \\right )}\\right) \\left(- L_{4} \\sin{\\left (\\theta_{2} \\right )} \\cos{\\left (\\theta_{3} \\right )} \\cos{\\left (\\theta_{4} \\right )} - L_{4} \\sin{\\left (\\theta_{4} \\right )} \\cos{\\left (\\theta_{2} \\right )}\\right)\\\\L_{1} \\cos{\\left (\\theta_{1} \\right )} + L_{2} \\cos{\\left (\\theta_{1} \\right )} \\cos{\\left (\\theta_{2} \\right )} - L_{3} \\sin{\\left (\\theta_{1} \\right )} \\sin{\\left (\\theta_{3} \\right )} + L_{3} \\cos{\\left (\\theta_{1} \\right )} \\cos{\\left (\\theta_{2} \\right )} \\cos{\\left (\\theta_{3} \\right )} + L_{4} \\left(- \\sin{\\left (\\theta_{1} \\right )} \\sin{\\left (\\theta_{3} \\right )} + \\cos{\\left (\\theta_{1} \\right )} \\cos{\\left (\\theta_{2} \\right )} \\cos{\\left (\\theta_{3} \\right )}\\right) \\cos{\\left (\\theta_{4} \\right )} - L_{4} \\sin{\\left (\\theta_{2} \\right )} \\sin{\\left (\\theta_{4} \\right )} \\cos{\\left (\\theta_{1} \\right )} & \\left(- L_{2} \\sin{\\left (\\theta_{2} \\right )} - L_{3} \\sin{\\left (\\theta_{2} \\right )} \\cos{\\left (\\theta_{3} \\right )} - L_{4} \\sin{\\left (\\theta_{2} \\right )} \\cos{\\left (\\theta_{3} \\right )} \\cos{\\left (\\theta_{4} \\right )} - L_{4} \\sin{\\left (\\theta_{4} \\right )} \\cos{\\left (\\theta_{2} \\right )}\\right) \\sin{\\left (\\theta_{1} \\right )} & - \\left(- L_{3} \\sin{\\left (\\theta_{2} \\right )} \\cos{\\left (\\theta_{3} \\right )} - L_{4} \\sin{\\left (\\theta_{2} \\right )} \\cos{\\left (\\theta_{3} \\right )} \\cos{\\left (\\theta_{4} \\right )} - L_{4} \\sin{\\left (\\theta_{4} \\right )} \\cos{\\left (\\theta_{2} \\right )}\\right) \\sin{\\left (\\theta_{2} \\right )} \\cos{\\left (\\theta_{1} \\right )} + \\left(- L_{3} \\sin{\\left (\\theta_{1} \\right )} \\sin{\\left (\\theta_{3} \\right )} + L_{3} \\cos{\\left (\\theta_{1} \\right )} \\cos{\\left (\\theta_{2} \\right )} \\cos{\\left (\\theta_{3} \\right )} + L_{4} \\left(- \\sin{\\left (\\theta_{1} \\right )} \\sin{\\left (\\theta_{3} \\right )} + \\cos{\\left (\\theta_{1} \\right )} \\cos{\\left (\\theta_{2} \\right )} \\cos{\\left (\\theta_{3} \\right )}\\right) \\cos{\\left (\\theta_{4} \\right )} - L_{4} \\sin{\\left (\\theta_{2} \\right )} \\sin{\\left (\\theta_{4} \\right )} \\cos{\\left (\\theta_{1} \\right )}\\right) \\cos{\\left (\\theta_{2} \\right )} & - \\left(- \\sin{\\left (\\theta_{1} \\right )} \\cos{\\left (\\theta_{3} \\right )} - \\sin{\\left (\\theta_{3} \\right )} \\cos{\\left (\\theta_{1} \\right )} \\cos{\\left (\\theta_{2} \\right )}\\right) \\left(- L_{4} \\sin{\\left (\\theta_{2} \\right )} \\cos{\\left (\\theta_{3} \\right )} \\cos{\\left (\\theta_{4} \\right )} - L_{4} \\sin{\\left (\\theta_{4} \\right )} \\cos{\\left (\\theta_{2} \\right )}\\right) + \\left(L_{4} \\left(- \\sin{\\left (\\theta_{1} \\right )} \\sin{\\left (\\theta_{3} \\right )} + \\cos{\\left (\\theta_{1} \\right )} \\cos{\\left (\\theta_{2} \\right )} \\cos{\\left (\\theta_{3} \\right )}\\right) \\cos{\\left (\\theta_{4} \\right )} - L_{4} \\sin{\\left (\\theta_{2} \\right )} \\sin{\\left (\\theta_{4} \\right )} \\cos{\\left (\\theta_{1} \\right )}\\right) \\sin{\\left (\\theta_{2} \\right )} \\sin{\\left (\\theta_{3} \\right )}\\\\0 & - \\left(L_{2} \\sin{\\left (\\theta_{1} \\right )} \\cos{\\left (\\theta_{2} \\right )} + L_{3} \\sin{\\left (\\theta_{1} \\right )} \\cos{\\left (\\theta_{2} \\right )} \\cos{\\left (\\theta_{3} \\right )} + L_{3} \\sin{\\left (\\theta_{3} \\right )} \\cos{\\left (\\theta_{1} \\right )} + L_{4} \\left(\\sin{\\left (\\theta_{1} \\right )} \\cos{\\left (\\theta_{2} \\right )} \\cos{\\left (\\theta_{3} \\right )} + \\sin{\\left (\\theta_{3} \\right )} \\cos{\\left (\\theta_{1} \\right )}\\right) \\cos{\\left (\\theta_{4} \\right )} - L_{4} \\sin{\\left (\\theta_{1} \\right )} \\sin{\\left (\\theta_{2} \\right )} \\sin{\\left (\\theta_{4} \\right )}\\right) \\sin{\\left (\\theta_{1} \\right )} - \\left(L_{2} \\cos{\\left (\\theta_{1} \\right )} \\cos{\\left (\\theta_{2} \\right )} - L_{3} \\sin{\\left (\\theta_{1} \\right )} \\sin{\\left (\\theta_{3} \\right )} + L_{3} \\cos{\\left (\\theta_{1} \\right )} \\cos{\\left (\\theta_{2} \\right )} \\cos{\\left (\\theta_{3} \\right )} + L_{4} \\left(- \\sin{\\left (\\theta_{1} \\right )} \\sin{\\left (\\theta_{3} \\right )} + \\cos{\\left (\\theta_{1} \\right )} \\cos{\\left (\\theta_{2} \\right )} \\cos{\\left (\\theta_{3} \\right )}\\right) \\cos{\\left (\\theta_{4} \\right )} - L_{4} \\sin{\\left (\\theta_{2} \\right )} \\sin{\\left (\\theta_{4} \\right )} \\cos{\\left (\\theta_{1} \\right )}\\right) \\cos{\\left (\\theta_{1} \\right )} & - \\left(- L_{3} \\sin{\\left (\\theta_{1} \\right )} \\sin{\\left (\\theta_{3} \\right )} + L_{3} \\cos{\\left (\\theta_{1} \\right )} \\cos{\\left (\\theta_{2} \\right )} \\cos{\\left (\\theta_{3} \\right )} + L_{4} \\left(- \\sin{\\left (\\theta_{1} \\right )} \\sin{\\left (\\theta_{3} \\right )} + \\cos{\\left (\\theta_{1} \\right )} \\cos{\\left (\\theta_{2} \\right )} \\cos{\\left (\\theta_{3} \\right )}\\right) \\cos{\\left (\\theta_{4} \\right )} - L_{4} \\sin{\\left (\\theta_{2} \\right )} \\sin{\\left (\\theta_{4} \\right )} \\cos{\\left (\\theta_{1} \\right )}\\right) \\sin{\\left (\\theta_{1} \\right )} \\sin{\\left (\\theta_{2} \\right )} + \\left(L_{3} \\sin{\\left (\\theta_{1} \\right )} \\cos{\\left (\\theta_{2} \\right )} \\cos{\\left (\\theta_{3} \\right )} + L_{3} \\sin{\\left (\\theta_{3} \\right )} \\cos{\\left (\\theta_{1} \\right )} + L_{4} \\left(\\sin{\\left (\\theta_{1} \\right )} \\cos{\\left (\\theta_{2} \\right )} \\cos{\\left (\\theta_{3} \\right )} + \\sin{\\left (\\theta_{3} \\right )} \\cos{\\left (\\theta_{1} \\right )}\\right) \\cos{\\left (\\theta_{4} \\right )} - L_{4} \\sin{\\left (\\theta_{1} \\right )} \\sin{\\left (\\theta_{2} \\right )} \\sin{\\left (\\theta_{4} \\right )}\\right) \\sin{\\left (\\theta_{2} \\right )} \\cos{\\left (\\theta_{1} \\right )} & \\left(- \\sin{\\left (\\theta_{1} \\right )} \\cos{\\left (\\theta_{3} \\right )} - \\sin{\\left (\\theta_{3} \\right )} \\cos{\\left (\\theta_{1} \\right )} \\cos{\\left (\\theta_{2} \\right )}\\right) \\left(L_{4} \\left(\\sin{\\left (\\theta_{1} \\right )} \\cos{\\left (\\theta_{2} \\right )} \\cos{\\left (\\theta_{3} \\right )} + \\sin{\\left (\\theta_{3} \\right )} \\cos{\\left (\\theta_{1} \\right )}\\right) \\cos{\\left (\\theta_{4} \\right )} - L_{4} \\sin{\\left (\\theta_{1} \\right )} \\sin{\\left (\\theta_{2} \\right )} \\sin{\\left (\\theta_{4} \\right )}\\right) - \\left(L_{4} \\left(- \\sin{\\left (\\theta_{1} \\right )} \\sin{\\left (\\theta_{3} \\right )} + \\cos{\\left (\\theta_{1} \\right )} \\cos{\\left (\\theta_{2} \\right )} \\cos{\\left (\\theta_{3} \\right )}\\right) \\cos{\\left (\\theta_{4} \\right )} - L_{4} \\sin{\\left (\\theta_{2} \\right )} \\sin{\\left (\\theta_{4} \\right )} \\cos{\\left (\\theta_{1} \\right )}\\right) \\left(- \\sin{\\left (\\theta_{1} \\right )} \\sin{\\left (\\theta_{3} \\right )} \\cos{\\left (\\theta_{2} \\right )} + \\cos{\\left (\\theta_{1} \\right )} \\cos{\\left (\\theta_{3} \\right )}\\right)\\\\0 & - \\sin{\\left (\\theta_{1} \\right )} & \\sin{\\left (\\theta_{2} \\right )} \\cos{\\left (\\theta_{1} \\right )} & - \\sin{\\left (\\theta_{1} \\right )} \\cos{\\left (\\theta_{3} \\right )} - \\sin{\\left (\\theta_{3} \\right )} \\cos{\\left (\\theta_{1} \\right )} \\cos{\\left (\\theta_{2} \\right )}\\\\0 & \\cos{\\left (\\theta_{1} \\right )} & \\sin{\\left (\\theta_{1} \\right )} \\sin{\\left (\\theta_{2} \\right )} & - \\sin{\\left (\\theta_{1} \\right )} \\sin{\\left (\\theta_{3} \\right )} \\cos{\\left (\\theta_{2} \\right )} + \\cos{\\left (\\theta_{1} \\right )} \\cos{\\left (\\theta_{3} \\right )}\\\\1 & 0 & \\cos{\\left (\\theta_{2} \\right )} & \\sin{\\left (\\theta_{2} \\right )} \\sin{\\left (\\theta_{3} \\right )}\\end{matrix}\\right]$$"
      ],
      "text/plain": [
       "⎡-L₁⋅sin(θ₁) - L₂⋅sin(θ₁)⋅cos(θ₂) - L₃⋅sin(θ₁)⋅cos(θ₂)⋅cos(θ₃) - L₃⋅sin(θ₃)⋅co\n",
       "⎢                                                                             \n",
       "⎢L₁⋅cos(θ₁) + L₂⋅cos(θ₁)⋅cos(θ₂) - L₃⋅sin(θ₁)⋅sin(θ₃) + L₃⋅cos(θ₁)⋅cos(θ₂)⋅cos\n",
       "⎢                                                                             \n",
       "⎢                                                                             \n",
       "⎢                                                                             \n",
       "⎢                                                                             \n",
       "⎢                                                                             \n",
       "⎢                                                                             \n",
       "⎢                                                                             \n",
       "⎣                                                                             \n",
       "\n",
       "s(θ₁) - L₄⋅(sin(θ₁)⋅cos(θ₂)⋅cos(θ₃) + sin(θ₃)⋅cos(θ₁))⋅cos(θ₄) + L₄⋅sin(θ₁)⋅si\n",
       "                                                                              \n",
       "(θ₃) + L₄⋅(-sin(θ₁)⋅sin(θ₃) + cos(θ₁)⋅cos(θ₂)⋅cos(θ₃))⋅cos(θ₄) - L₄⋅sin(θ₂)⋅si\n",
       "                                                                              \n",
       "      0                                                                       \n",
       "                                                                              \n",
       "      0                                                                       \n",
       "                                                                              \n",
       "      0                                                                       \n",
       "                                                                              \n",
       "      1                                                                       \n",
       "\n",
       "n(θ₂)⋅sin(θ₄)                                                                 \n",
       "                                                                              \n",
       "n(θ₄)⋅cos(θ₁)                                                                 \n",
       "                                                                              \n",
       "               -(L₂⋅sin(θ₁)⋅cos(θ₂) + L₃⋅sin(θ₁)⋅cos(θ₂)⋅cos(θ₃) + L₃⋅sin(θ₃)⋅\n",
       "                                                                              \n",
       "                                                                              \n",
       "                                                                              \n",
       "                                                                              \n",
       "                                                                              \n",
       "                                                                              \n",
       "\n",
       "                                                         (-L₂⋅sin(θ₂) - L₃⋅sin\n",
       "                                                                              \n",
       "                                                         (-L₂⋅sin(θ₂) - L₃⋅sin\n",
       "                                                                              \n",
       "cos(θ₁) + L₄⋅(sin(θ₁)⋅cos(θ₂)⋅cos(θ₃) + sin(θ₃)⋅cos(θ₁))⋅cos(θ₄) - L₄⋅sin(θ₁)⋅\n",
       "                                                                              \n",
       "                                                                              \n",
       "                                                                              \n",
       "                                                                              \n",
       "                                                                              \n",
       "                                                                              \n",
       "\n",
       "(θ₂)⋅cos(θ₃) - L₄⋅sin(θ₂)⋅cos(θ₃)⋅cos(θ₄) - L₄⋅sin(θ₄)⋅cos(θ₂))⋅cos(θ₁)       \n",
       "                                                                              \n",
       "(θ₂)⋅cos(θ₃) - L₄⋅sin(θ₂)⋅cos(θ₃)⋅cos(θ₄) - L₄⋅sin(θ₄)⋅cos(θ₂))⋅sin(θ₁)       \n",
       "                                                                              \n",
       "sin(θ₂)⋅sin(θ₄))⋅sin(θ₁) - (L₂⋅cos(θ₁)⋅cos(θ₂) - L₃⋅sin(θ₁)⋅sin(θ₃) + L₃⋅cos(θ\n",
       "                                                                              \n",
       "                     -sin(θ₁)                                                 \n",
       "                                                                              \n",
       "                      cos(θ₁)                                                 \n",
       "                                                                              \n",
       "                         0                                                    \n",
       "\n",
       "                                                                              \n",
       "                                                                              \n",
       "                                                                              \n",
       "                                                                              \n",
       "₁)⋅cos(θ₂)⋅cos(θ₃) + L₄⋅(-sin(θ₁)⋅sin(θ₃) + cos(θ₁)⋅cos(θ₂)⋅cos(θ₃))⋅cos(θ₄) -\n",
       "                                                                              \n",
       "                                                                              \n",
       "                                                                              \n",
       "                                                                              \n",
       "                                                                              \n",
       "                                                                              \n",
       "\n",
       "                                                                           (-L\n",
       "                                                                              \n",
       "                                                                          -(-L\n",
       "                                                                              \n",
       " L₄⋅sin(θ₂)⋅sin(θ₄)⋅cos(θ₁))⋅cos(θ₁)  -(-L₃⋅sin(θ₁)⋅sin(θ₃) + L₃⋅cos(θ₁)⋅cos(θ\n",
       "                                                                              \n",
       "                                                                              \n",
       "                                                                              \n",
       "                                                                              \n",
       "                                                                              \n",
       "                                                                              \n",
       "\n",
       "₃⋅sin(θ₂)⋅cos(θ₃) - L₄⋅sin(θ₂)⋅cos(θ₃)⋅cos(θ₄) - L₄⋅sin(θ₄)⋅cos(θ₂))⋅sin(θ₁)⋅s\n",
       "                                                                              \n",
       "₃⋅sin(θ₂)⋅cos(θ₃) - L₄⋅sin(θ₂)⋅cos(θ₃)⋅cos(θ₄) - L₄⋅sin(θ₄)⋅cos(θ₂))⋅sin(θ₂)⋅c\n",
       "                                                                              \n",
       "₂)⋅cos(θ₃) + L₄⋅(-sin(θ₁)⋅sin(θ₃) + cos(θ₁)⋅cos(θ₂)⋅cos(θ₃))⋅cos(θ₄) - L₄⋅sin(\n",
       "                                                                              \n",
       "                                                                              \n",
       "                                                                              \n",
       "                                                                              \n",
       "                                                                              \n",
       "                                                                              \n",
       "\n",
       "in(θ₂) - (L₃⋅sin(θ₁)⋅cos(θ₂)⋅cos(θ₃) + L₃⋅sin(θ₃)⋅cos(θ₁) + L₄⋅(sin(θ₁)⋅cos(θ₂\n",
       "                                                                              \n",
       "os(θ₁) + (-L₃⋅sin(θ₁)⋅sin(θ₃) + L₃⋅cos(θ₁)⋅cos(θ₂)⋅cos(θ₃) + L₄⋅(-sin(θ₁)⋅sin(\n",
       "                                                                              \n",
       "θ₂)⋅sin(θ₄)⋅cos(θ₁))⋅sin(θ₁)⋅sin(θ₂) + (L₃⋅sin(θ₁)⋅cos(θ₂)⋅cos(θ₃) + L₃⋅sin(θ₃\n",
       "                                                                              \n",
       "                            sin(θ₂)⋅cos(θ₁)                                   \n",
       "                                                                              \n",
       "                            sin(θ₁)⋅sin(θ₂)                                   \n",
       "                                                                              \n",
       "                                cos(θ₂)                                       \n",
       "\n",
       ")⋅cos(θ₃) + sin(θ₃)⋅cos(θ₁))⋅cos(θ₄) - L₄⋅sin(θ₁)⋅sin(θ₂)⋅sin(θ₄))⋅cos(θ₂)    \n",
       "                                                                              \n",
       "θ₃) + cos(θ₁)⋅cos(θ₂)⋅cos(θ₃))⋅cos(θ₄) - L₄⋅sin(θ₂)⋅sin(θ₄)⋅cos(θ₁))⋅cos(θ₂)  \n",
       "                                                                              \n",
       ")⋅cos(θ₁) + L₄⋅(sin(θ₁)⋅cos(θ₂)⋅cos(θ₃) + sin(θ₃)⋅cos(θ₁))⋅cos(θ₄) - L₄⋅sin(θ₁\n",
       "                                                                              \n",
       "                                                                              \n",
       "                                                                              \n",
       "                                                                              \n",
       "                                                                              \n",
       "                                                                              \n",
       "\n",
       "                                                                    -(L₄⋅(sin(\n",
       "                                                                              \n",
       "                                                                   -(-sin(θ₁)⋅\n",
       "                                                                              \n",
       ")⋅sin(θ₂)⋅sin(θ₄))⋅sin(θ₂)⋅cos(θ₁)  (-sin(θ₁)⋅cos(θ₃) - sin(θ₃)⋅cos(θ₁)⋅cos(θ₂\n",
       "                                                                              \n",
       "                                                                              \n",
       "                                                                              \n",
       "                                                                              \n",
       "                                                                              \n",
       "                                                                              \n",
       "\n",
       "θ₁)⋅cos(θ₂)⋅cos(θ₃) + sin(θ₃)⋅cos(θ₁))⋅cos(θ₄) - L₄⋅sin(θ₁)⋅sin(θ₂)⋅sin(θ₄))⋅s\n",
       "                                                                              \n",
       "cos(θ₃) - sin(θ₃)⋅cos(θ₁)⋅cos(θ₂))⋅(-L₄⋅sin(θ₂)⋅cos(θ₃)⋅cos(θ₄) - L₄⋅sin(θ₄)⋅c\n",
       "                                                                              \n",
       "))⋅(L₄⋅(sin(θ₁)⋅cos(θ₂)⋅cos(θ₃) + sin(θ₃)⋅cos(θ₁))⋅cos(θ₄) - L₄⋅sin(θ₁)⋅sin(θ₂\n",
       "                                                                              \n",
       "                                                                     -sin(θ₁)⋅\n",
       "                                                                              \n",
       "                                                                     -sin(θ₁)⋅\n",
       "                                                                              \n",
       "                                                                              \n",
       "\n",
       "in(θ₂)⋅sin(θ₃) + (-sin(θ₁)⋅sin(θ₃)⋅cos(θ₂) + cos(θ₁)⋅cos(θ₃))⋅(-L₄⋅sin(θ₂)⋅cos\n",
       "                                                                              \n",
       "os(θ₂)) + (L₄⋅(-sin(θ₁)⋅sin(θ₃) + cos(θ₁)⋅cos(θ₂)⋅cos(θ₃))⋅cos(θ₄) - L₄⋅sin(θ₂\n",
       "                                                                              \n",
       ")⋅sin(θ₄)) - (L₄⋅(-sin(θ₁)⋅sin(θ₃) + cos(θ₁)⋅cos(θ₂)⋅cos(θ₃))⋅cos(θ₄) - L₄⋅sin\n",
       "                                                                              \n",
       "cos(θ₃) - sin(θ₃)⋅cos(θ₁)⋅cos(θ₂)                                             \n",
       "                                                                              \n",
       "sin(θ₃)⋅cos(θ₂) + cos(θ₁)⋅cos(θ₃)                                             \n",
       "                                                                              \n",
       "    sin(θ₂)⋅sin(θ₃)                                                           \n",
       "\n",
       "(θ₃)⋅cos(θ₄) - L₄⋅sin(θ₄)⋅cos(θ₂))                                ⎤\n",
       "                                                                  ⎥\n",
       ")⋅sin(θ₄)⋅cos(θ₁))⋅sin(θ₂)⋅sin(θ₃)                                ⎥\n",
       "                                                                  ⎥\n",
       "(θ₂)⋅sin(θ₄)⋅cos(θ₁))⋅(-sin(θ₁)⋅sin(θ₃)⋅cos(θ₂) + cos(θ₁)⋅cos(θ₃))⎥\n",
       "                                                                  ⎥\n",
       "                                                                  ⎥\n",
       "                                                                  ⎥\n",
       "                                                                  ⎥\n",
       "                                                                  ⎥\n",
       "                                                                  ⎦"
      ]
     },
     "metadata": {},
     "output_type": "display_data"
    },
    {
     "name": "stdout",
     "output_type": "stream",
     "text": [
      "Jvc4\n"
     ]
    },
    {
     "data": {
      "text/latex": [
       "$$\\left[\\begin{matrix}- L_{1} \\sin{\\left (\\theta_{1} \\right )} - L_{2} \\sin{\\left (\\theta_{1} \\right )} \\cos{\\left (\\theta_{2} \\right )} - L_{3} \\sin{\\left (\\theta_{1} \\right )} \\cos{\\left (\\theta_{2} \\right )} \\cos{\\left (\\theta_{3} \\right )} - L_{3} \\sin{\\left (\\theta_{3} \\right )} \\cos{\\left (\\theta_{1} \\right )} - L_{c4} \\left(\\sin{\\left (\\theta_{1} \\right )} \\cos{\\left (\\theta_{2} \\right )} \\cos{\\left (\\theta_{3} \\right )} + \\sin{\\left (\\theta_{3} \\right )} \\cos{\\left (\\theta_{1} \\right )}\\right) \\cos{\\left (\\theta_{4} \\right )} + L_{c4} \\sin{\\left (\\theta_{1} \\right )} \\sin{\\left (\\theta_{2} \\right )} \\sin{\\left (\\theta_{4} \\right )} & \\left(- L_{2} \\sin{\\left (\\theta_{2} \\right )} - L_{3} \\sin{\\left (\\theta_{2} \\right )} \\cos{\\left (\\theta_{3} \\right )} - L_{c4} \\sin{\\left (\\theta_{2} \\right )} \\cos{\\left (\\theta_{3} \\right )} \\cos{\\left (\\theta_{4} \\right )} - L_{c4} \\sin{\\left (\\theta_{4} \\right )} \\cos{\\left (\\theta_{2} \\right )}\\right) \\cos{\\left (\\theta_{1} \\right )} & \\left(- L_{3} \\sin{\\left (\\theta_{2} \\right )} \\cos{\\left (\\theta_{3} \\right )} - L_{c4} \\sin{\\left (\\theta_{2} \\right )} \\cos{\\left (\\theta_{3} \\right )} \\cos{\\left (\\theta_{4} \\right )} - L_{c4} \\sin{\\left (\\theta_{4} \\right )} \\cos{\\left (\\theta_{2} \\right )}\\right) \\sin{\\left (\\theta_{1} \\right )} \\sin{\\left (\\theta_{2} \\right )} - \\left(L_{3} \\sin{\\left (\\theta_{1} \\right )} \\cos{\\left (\\theta_{2} \\right )} \\cos{\\left (\\theta_{3} \\right )} + L_{3} \\sin{\\left (\\theta_{3} \\right )} \\cos{\\left (\\theta_{1} \\right )} + L_{c4} \\left(\\sin{\\left (\\theta_{1} \\right )} \\cos{\\left (\\theta_{2} \\right )} \\cos{\\left (\\theta_{3} \\right )} + \\sin{\\left (\\theta_{3} \\right )} \\cos{\\left (\\theta_{1} \\right )}\\right) \\cos{\\left (\\theta_{4} \\right )} - L_{c4} \\sin{\\left (\\theta_{1} \\right )} \\sin{\\left (\\theta_{2} \\right )} \\sin{\\left (\\theta_{4} \\right )}\\right) \\cos{\\left (\\theta_{2} \\right )} & - \\left(L_{c4} \\left(\\sin{\\left (\\theta_{1} \\right )} \\cos{\\left (\\theta_{2} \\right )} \\cos{\\left (\\theta_{3} \\right )} + \\sin{\\left (\\theta_{3} \\right )} \\cos{\\left (\\theta_{1} \\right )}\\right) \\cos{\\left (\\theta_{4} \\right )} - L_{c4} \\sin{\\left (\\theta_{1} \\right )} \\sin{\\left (\\theta_{2} \\right )} \\sin{\\left (\\theta_{4} \\right )}\\right) \\sin{\\left (\\theta_{2} \\right )} \\sin{\\left (\\theta_{3} \\right )} + \\left(- \\sin{\\left (\\theta_{1} \\right )} \\sin{\\left (\\theta_{3} \\right )} \\cos{\\left (\\theta_{2} \\right )} + \\cos{\\left (\\theta_{1} \\right )} \\cos{\\left (\\theta_{3} \\right )}\\right) \\left(- L_{c4} \\sin{\\left (\\theta_{2} \\right )} \\cos{\\left (\\theta_{3} \\right )} \\cos{\\left (\\theta_{4} \\right )} - L_{c4} \\sin{\\left (\\theta_{4} \\right )} \\cos{\\left (\\theta_{2} \\right )}\\right)\\\\L_{1} \\cos{\\left (\\theta_{1} \\right )} + L_{2} \\cos{\\left (\\theta_{1} \\right )} \\cos{\\left (\\theta_{2} \\right )} - L_{3} \\sin{\\left (\\theta_{1} \\right )} \\sin{\\left (\\theta_{3} \\right )} + L_{3} \\cos{\\left (\\theta_{1} \\right )} \\cos{\\left (\\theta_{2} \\right )} \\cos{\\left (\\theta_{3} \\right )} + L_{c4} \\left(- \\sin{\\left (\\theta_{1} \\right )} \\sin{\\left (\\theta_{3} \\right )} + \\cos{\\left (\\theta_{1} \\right )} \\cos{\\left (\\theta_{2} \\right )} \\cos{\\left (\\theta_{3} \\right )}\\right) \\cos{\\left (\\theta_{4} \\right )} - L_{c4} \\sin{\\left (\\theta_{2} \\right )} \\sin{\\left (\\theta_{4} \\right )} \\cos{\\left (\\theta_{1} \\right )} & \\left(- L_{2} \\sin{\\left (\\theta_{2} \\right )} - L_{3} \\sin{\\left (\\theta_{2} \\right )} \\cos{\\left (\\theta_{3} \\right )} - L_{c4} \\sin{\\left (\\theta_{2} \\right )} \\cos{\\left (\\theta_{3} \\right )} \\cos{\\left (\\theta_{4} \\right )} - L_{c4} \\sin{\\left (\\theta_{4} \\right )} \\cos{\\left (\\theta_{2} \\right )}\\right) \\sin{\\left (\\theta_{1} \\right )} & - \\left(- L_{3} \\sin{\\left (\\theta_{2} \\right )} \\cos{\\left (\\theta_{3} \\right )} - L_{c4} \\sin{\\left (\\theta_{2} \\right )} \\cos{\\left (\\theta_{3} \\right )} \\cos{\\left (\\theta_{4} \\right )} - L_{c4} \\sin{\\left (\\theta_{4} \\right )} \\cos{\\left (\\theta_{2} \\right )}\\right) \\sin{\\left (\\theta_{2} \\right )} \\cos{\\left (\\theta_{1} \\right )} + \\left(- L_{3} \\sin{\\left (\\theta_{1} \\right )} \\sin{\\left (\\theta_{3} \\right )} + L_{3} \\cos{\\left (\\theta_{1} \\right )} \\cos{\\left (\\theta_{2} \\right )} \\cos{\\left (\\theta_{3} \\right )} + L_{c4} \\left(- \\sin{\\left (\\theta_{1} \\right )} \\sin{\\left (\\theta_{3} \\right )} + \\cos{\\left (\\theta_{1} \\right )} \\cos{\\left (\\theta_{2} \\right )} \\cos{\\left (\\theta_{3} \\right )}\\right) \\cos{\\left (\\theta_{4} \\right )} - L_{c4} \\sin{\\left (\\theta_{2} \\right )} \\sin{\\left (\\theta_{4} \\right )} \\cos{\\left (\\theta_{1} \\right )}\\right) \\cos{\\left (\\theta_{2} \\right )} & - \\left(- \\sin{\\left (\\theta_{1} \\right )} \\cos{\\left (\\theta_{3} \\right )} - \\sin{\\left (\\theta_{3} \\right )} \\cos{\\left (\\theta_{1} \\right )} \\cos{\\left (\\theta_{2} \\right )}\\right) \\left(- L_{c4} \\sin{\\left (\\theta_{2} \\right )} \\cos{\\left (\\theta_{3} \\right )} \\cos{\\left (\\theta_{4} \\right )} - L_{c4} \\sin{\\left (\\theta_{4} \\right )} \\cos{\\left (\\theta_{2} \\right )}\\right) + \\left(L_{c4} \\left(- \\sin{\\left (\\theta_{1} \\right )} \\sin{\\left (\\theta_{3} \\right )} + \\cos{\\left (\\theta_{1} \\right )} \\cos{\\left (\\theta_{2} \\right )} \\cos{\\left (\\theta_{3} \\right )}\\right) \\cos{\\left (\\theta_{4} \\right )} - L_{c4} \\sin{\\left (\\theta_{2} \\right )} \\sin{\\left (\\theta_{4} \\right )} \\cos{\\left (\\theta_{1} \\right )}\\right) \\sin{\\left (\\theta_{2} \\right )} \\sin{\\left (\\theta_{3} \\right )}\\\\0 & - \\left(L_{2} \\sin{\\left (\\theta_{1} \\right )} \\cos{\\left (\\theta_{2} \\right )} + L_{3} \\sin{\\left (\\theta_{1} \\right )} \\cos{\\left (\\theta_{2} \\right )} \\cos{\\left (\\theta_{3} \\right )} + L_{3} \\sin{\\left (\\theta_{3} \\right )} \\cos{\\left (\\theta_{1} \\right )} + L_{c4} \\left(\\sin{\\left (\\theta_{1} \\right )} \\cos{\\left (\\theta_{2} \\right )} \\cos{\\left (\\theta_{3} \\right )} + \\sin{\\left (\\theta_{3} \\right )} \\cos{\\left (\\theta_{1} \\right )}\\right) \\cos{\\left (\\theta_{4} \\right )} - L_{c4} \\sin{\\left (\\theta_{1} \\right )} \\sin{\\left (\\theta_{2} \\right )} \\sin{\\left (\\theta_{4} \\right )}\\right) \\sin{\\left (\\theta_{1} \\right )} - \\left(L_{2} \\cos{\\left (\\theta_{1} \\right )} \\cos{\\left (\\theta_{2} \\right )} - L_{3} \\sin{\\left (\\theta_{1} \\right )} \\sin{\\left (\\theta_{3} \\right )} + L_{3} \\cos{\\left (\\theta_{1} \\right )} \\cos{\\left (\\theta_{2} \\right )} \\cos{\\left (\\theta_{3} \\right )} + L_{c4} \\left(- \\sin{\\left (\\theta_{1} \\right )} \\sin{\\left (\\theta_{3} \\right )} + \\cos{\\left (\\theta_{1} \\right )} \\cos{\\left (\\theta_{2} \\right )} \\cos{\\left (\\theta_{3} \\right )}\\right) \\cos{\\left (\\theta_{4} \\right )} - L_{c4} \\sin{\\left (\\theta_{2} \\right )} \\sin{\\left (\\theta_{4} \\right )} \\cos{\\left (\\theta_{1} \\right )}\\right) \\cos{\\left (\\theta_{1} \\right )} & - \\left(- L_{3} \\sin{\\left (\\theta_{1} \\right )} \\sin{\\left (\\theta_{3} \\right )} + L_{3} \\cos{\\left (\\theta_{1} \\right )} \\cos{\\left (\\theta_{2} \\right )} \\cos{\\left (\\theta_{3} \\right )} + L_{c4} \\left(- \\sin{\\left (\\theta_{1} \\right )} \\sin{\\left (\\theta_{3} \\right )} + \\cos{\\left (\\theta_{1} \\right )} \\cos{\\left (\\theta_{2} \\right )} \\cos{\\left (\\theta_{3} \\right )}\\right) \\cos{\\left (\\theta_{4} \\right )} - L_{c4} \\sin{\\left (\\theta_{2} \\right )} \\sin{\\left (\\theta_{4} \\right )} \\cos{\\left (\\theta_{1} \\right )}\\right) \\sin{\\left (\\theta_{1} \\right )} \\sin{\\left (\\theta_{2} \\right )} + \\left(L_{3} \\sin{\\left (\\theta_{1} \\right )} \\cos{\\left (\\theta_{2} \\right )} \\cos{\\left (\\theta_{3} \\right )} + L_{3} \\sin{\\left (\\theta_{3} \\right )} \\cos{\\left (\\theta_{1} \\right )} + L_{c4} \\left(\\sin{\\left (\\theta_{1} \\right )} \\cos{\\left (\\theta_{2} \\right )} \\cos{\\left (\\theta_{3} \\right )} + \\sin{\\left (\\theta_{3} \\right )} \\cos{\\left (\\theta_{1} \\right )}\\right) \\cos{\\left (\\theta_{4} \\right )} - L_{c4} \\sin{\\left (\\theta_{1} \\right )} \\sin{\\left (\\theta_{2} \\right )} \\sin{\\left (\\theta_{4} \\right )}\\right) \\sin{\\left (\\theta_{2} \\right )} \\cos{\\left (\\theta_{1} \\right )} & \\left(- \\sin{\\left (\\theta_{1} \\right )} \\cos{\\left (\\theta_{3} \\right )} - \\sin{\\left (\\theta_{3} \\right )} \\cos{\\left (\\theta_{1} \\right )} \\cos{\\left (\\theta_{2} \\right )}\\right) \\left(L_{c4} \\left(\\sin{\\left (\\theta_{1} \\right )} \\cos{\\left (\\theta_{2} \\right )} \\cos{\\left (\\theta_{3} \\right )} + \\sin{\\left (\\theta_{3} \\right )} \\cos{\\left (\\theta_{1} \\right )}\\right) \\cos{\\left (\\theta_{4} \\right )} - L_{c4} \\sin{\\left (\\theta_{1} \\right )} \\sin{\\left (\\theta_{2} \\right )} \\sin{\\left (\\theta_{4} \\right )}\\right) - \\left(L_{c4} \\left(- \\sin{\\left (\\theta_{1} \\right )} \\sin{\\left (\\theta_{3} \\right )} + \\cos{\\left (\\theta_{1} \\right )} \\cos{\\left (\\theta_{2} \\right )} \\cos{\\left (\\theta_{3} \\right )}\\right) \\cos{\\left (\\theta_{4} \\right )} - L_{c4} \\sin{\\left (\\theta_{2} \\right )} \\sin{\\left (\\theta_{4} \\right )} \\cos{\\left (\\theta_{1} \\right )}\\right) \\left(- \\sin{\\left (\\theta_{1} \\right )} \\sin{\\left (\\theta_{3} \\right )} \\cos{\\left (\\theta_{2} \\right )} + \\cos{\\left (\\theta_{1} \\right )} \\cos{\\left (\\theta_{3} \\right )}\\right)\\end{matrix}\\right]$$"
      ],
      "text/plain": [
       "⎡-L₁⋅sin(θ₁) - L₂⋅sin(θ₁)⋅cos(θ₂) - L₃⋅sin(θ₁)⋅cos(θ₂)⋅cos(θ₃) - L₃⋅sin(θ₃)⋅co\n",
       "⎢                                                                             \n",
       "⎢L₁⋅cos(θ₁) + L₂⋅cos(θ₁)⋅cos(θ₂) - L₃⋅sin(θ₁)⋅sin(θ₃) + L₃⋅cos(θ₁)⋅cos(θ₂)⋅cos\n",
       "⎢                                                                             \n",
       "⎣                                                                             \n",
       "\n",
       "s(θ₁) - L_c4⋅(sin(θ₁)⋅cos(θ₂)⋅cos(θ₃) + sin(θ₃)⋅cos(θ₁))⋅cos(θ₄) + L_c4⋅sin(θ₁\n",
       "                                                                              \n",
       "(θ₃) + L_c4⋅(-sin(θ₁)⋅sin(θ₃) + cos(θ₁)⋅cos(θ₂)⋅cos(θ₃))⋅cos(θ₄) - L_c4⋅sin(θ₂\n",
       "                                                                              \n",
       "        0                                                                     \n",
       "\n",
       ")⋅sin(θ₂)⋅sin(θ₄)                                                             \n",
       "                                                                              \n",
       ")⋅sin(θ₄)⋅cos(θ₁)                                                             \n",
       "                                                                              \n",
       "                   -(L₂⋅sin(θ₁)⋅cos(θ₂) + L₃⋅sin(θ₁)⋅cos(θ₂)⋅cos(θ₃) + L₃⋅sin(\n",
       "\n",
       "                                                               (-L₂⋅sin(θ₂) - \n",
       "                                                                              \n",
       "                                                               (-L₂⋅sin(θ₂) - \n",
       "                                                                              \n",
       "θ₃)⋅cos(θ₁) + L_c4⋅(sin(θ₁)⋅cos(θ₂)⋅cos(θ₃) + sin(θ₃)⋅cos(θ₁))⋅cos(θ₄) - L_c4⋅\n",
       "\n",
       "L₃⋅sin(θ₂)⋅cos(θ₃) - L_c4⋅sin(θ₂)⋅cos(θ₃)⋅cos(θ₄) - L_c4⋅sin(θ₄)⋅cos(θ₂))⋅cos(\n",
       "                                                                              \n",
       "L₃⋅sin(θ₂)⋅cos(θ₃) - L_c4⋅sin(θ₂)⋅cos(θ₃)⋅cos(θ₄) - L_c4⋅sin(θ₄)⋅cos(θ₂))⋅sin(\n",
       "                                                                              \n",
       "sin(θ₁)⋅sin(θ₂)⋅sin(θ₄))⋅sin(θ₁) - (L₂⋅cos(θ₁)⋅cos(θ₂) - L₃⋅sin(θ₁)⋅sin(θ₃) + \n",
       "\n",
       "θ₁)                                                                           \n",
       "                                                                              \n",
       "θ₁)                                                                           \n",
       "                                                                              \n",
       "L₃⋅cos(θ₁)⋅cos(θ₂)⋅cos(θ₃) + L_c4⋅(-sin(θ₁)⋅sin(θ₃) + cos(θ₁)⋅cos(θ₂)⋅cos(θ₃))\n",
       "\n",
       "                                                                              \n",
       "                                                                              \n",
       "                                                                              \n",
       "                                                                              \n",
       "⋅cos(θ₄) - L_c4⋅sin(θ₂)⋅sin(θ₄)⋅cos(θ₁))⋅cos(θ₁)  -(-L₃⋅sin(θ₁)⋅sin(θ₃) + L₃⋅c\n",
       "\n",
       "         (-L₃⋅sin(θ₂)⋅cos(θ₃) - L_c4⋅sin(θ₂)⋅cos(θ₃)⋅cos(θ₄) - L_c4⋅sin(θ₄)⋅co\n",
       "                                                                              \n",
       "        -(-L₃⋅sin(θ₂)⋅cos(θ₃) - L_c4⋅sin(θ₂)⋅cos(θ₃)⋅cos(θ₄) - L_c4⋅sin(θ₄)⋅co\n",
       "                                                                              \n",
       "os(θ₁)⋅cos(θ₂)⋅cos(θ₃) + L_c4⋅(-sin(θ₁)⋅sin(θ₃) + cos(θ₁)⋅cos(θ₂)⋅cos(θ₃))⋅cos\n",
       "\n",
       "s(θ₂))⋅sin(θ₁)⋅sin(θ₂) - (L₃⋅sin(θ₁)⋅cos(θ₂)⋅cos(θ₃) + L₃⋅sin(θ₃)⋅cos(θ₁) + L_\n",
       "                                                                              \n",
       "s(θ₂))⋅sin(θ₂)⋅cos(θ₁) + (-L₃⋅sin(θ₁)⋅sin(θ₃) + L₃⋅cos(θ₁)⋅cos(θ₂)⋅cos(θ₃) + L\n",
       "                                                                              \n",
       "(θ₄) - L_c4⋅sin(θ₂)⋅sin(θ₄)⋅cos(θ₁))⋅sin(θ₁)⋅sin(θ₂) + (L₃⋅sin(θ₁)⋅cos(θ₂)⋅cos\n",
       "\n",
       "c4⋅(sin(θ₁)⋅cos(θ₂)⋅cos(θ₃) + sin(θ₃)⋅cos(θ₁))⋅cos(θ₄) - L_c4⋅sin(θ₁)⋅sin(θ₂)⋅\n",
       "                                                                              \n",
       "_c4⋅(-sin(θ₁)⋅sin(θ₃) + cos(θ₁)⋅cos(θ₂)⋅cos(θ₃))⋅cos(θ₄) - L_c4⋅sin(θ₂)⋅sin(θ₄\n",
       "                                                                              \n",
       "(θ₃) + L₃⋅sin(θ₃)⋅cos(θ₁) + L_c4⋅(sin(θ₁)⋅cos(θ₂)⋅cos(θ₃) + sin(θ₃)⋅cos(θ₁))⋅c\n",
       "\n",
       "sin(θ₄))⋅cos(θ₂)                                                              \n",
       "                                                                              \n",
       ")⋅cos(θ₁))⋅cos(θ₂)                                                            \n",
       "                                                                              \n",
       "os(θ₄) - L_c4⋅sin(θ₁)⋅sin(θ₂)⋅sin(θ₄))⋅sin(θ₂)⋅cos(θ₁)  (-sin(θ₁)⋅cos(θ₃) - si\n",
       "\n",
       "          -(L_c4⋅(sin(θ₁)⋅cos(θ₂)⋅cos(θ₃) + sin(θ₃)⋅cos(θ₁))⋅cos(θ₄) - L_c4⋅si\n",
       "                                                                              \n",
       "         -(-sin(θ₁)⋅cos(θ₃) - sin(θ₃)⋅cos(θ₁)⋅cos(θ₂))⋅(-L_c4⋅sin(θ₂)⋅cos(θ₃)⋅\n",
       "                                                                              \n",
       "n(θ₃)⋅cos(θ₁)⋅cos(θ₂))⋅(L_c4⋅(sin(θ₁)⋅cos(θ₂)⋅cos(θ₃) + sin(θ₃)⋅cos(θ₁))⋅cos(θ\n",
       "\n",
       "n(θ₁)⋅sin(θ₂)⋅sin(θ₄))⋅sin(θ₂)⋅sin(θ₃) + (-sin(θ₁)⋅sin(θ₃)⋅cos(θ₂) + cos(θ₁)⋅c\n",
       "                                                                              \n",
       "cos(θ₄) - L_c4⋅sin(θ₄)⋅cos(θ₂)) + (L_c4⋅(-sin(θ₁)⋅sin(θ₃) + cos(θ₁)⋅cos(θ₂)⋅co\n",
       "                                                                              \n",
       "₄) - L_c4⋅sin(θ₁)⋅sin(θ₂)⋅sin(θ₄)) - (L_c4⋅(-sin(θ₁)⋅sin(θ₃) + cos(θ₁)⋅cos(θ₂)\n",
       "\n",
       "os(θ₃))⋅(-L_c4⋅sin(θ₂)⋅cos(θ₃)⋅cos(θ₄) - L_c4⋅sin(θ₄)⋅cos(θ₂))                \n",
       "                                                                              \n",
       "s(θ₃))⋅cos(θ₄) - L_c4⋅sin(θ₂)⋅sin(θ₄)⋅cos(θ₁))⋅sin(θ₂)⋅sin(θ₃)                \n",
       "                                                                              \n",
       "⋅cos(θ₃))⋅cos(θ₄) - L_c4⋅sin(θ₂)⋅sin(θ₄)⋅cos(θ₁))⋅(-sin(θ₁)⋅sin(θ₃)⋅cos(θ₂) + \n",
       "\n",
       "                ⎤\n",
       "                ⎥\n",
       "                ⎥\n",
       "                ⎥\n",
       "cos(θ₁)⋅cos(θ₃))⎦"
      ]
     },
     "metadata": {},
     "output_type": "display_data"
    },
    {
     "name": "stdout",
     "output_type": "stream",
     "text": [
      "Jwc4\n"
     ]
    },
    {
     "data": {
      "text/latex": [
       "$$\\left[\\begin{matrix}0 & - \\sin{\\left (\\theta_{1} \\right )} & \\sin{\\left (\\theta_{2} \\right )} \\cos{\\left (\\theta_{1} \\right )} & - \\sin{\\left (\\theta_{1} \\right )} \\cos{\\left (\\theta_{3} \\right )} - \\sin{\\left (\\theta_{3} \\right )} \\cos{\\left (\\theta_{1} \\right )} \\cos{\\left (\\theta_{2} \\right )}\\\\0 & \\cos{\\left (\\theta_{1} \\right )} & \\sin{\\left (\\theta_{1} \\right )} \\sin{\\left (\\theta_{2} \\right )} & - \\sin{\\left (\\theta_{1} \\right )} \\sin{\\left (\\theta_{3} \\right )} \\cos{\\left (\\theta_{2} \\right )} + \\cos{\\left (\\theta_{1} \\right )} \\cos{\\left (\\theta_{3} \\right )}\\\\1 & 0 & \\cos{\\left (\\theta_{2} \\right )} & \\sin{\\left (\\theta_{2} \\right )} \\sin{\\left (\\theta_{3} \\right )}\\end{matrix}\\right]$$"
      ],
      "text/plain": [
       "⎡0  -sin(θ₁)  sin(θ₂)⋅cos(θ₁)  -sin(θ₁)⋅cos(θ₃) - sin(θ₃)⋅cos(θ₁)⋅cos(θ₂)⎤\n",
       "⎢                                                                        ⎥\n",
       "⎢0  cos(θ₁)   sin(θ₁)⋅sin(θ₂)  -sin(θ₁)⋅sin(θ₃)⋅cos(θ₂) + cos(θ₁)⋅cos(θ₃)⎥\n",
       "⎢                                                                        ⎥\n",
       "⎣1     0          cos(θ₂)                   sin(θ₂)⋅sin(θ₃)              ⎦"
      ]
     },
     "metadata": {},
     "output_type": "display_data"
    }
   ],
   "source": [
    "#!/usr/bin/env python3\n",
    "# -*- coding: utf-8 -*-\n",
    "\"\"\"\n",
    "Created on Tue Mar 13 22:26:33 2018\n",
    "\n",
    "@author: shubham\n",
    "\"\"\"\n",
    "\n",
    "from __future__ import division\n",
    "from sympy import *\n",
    "from IPython.display import display\n",
    "\n",
    "init_printing(use_latex='mathjax')\n",
    "\n",
    "N_links = 4\n",
    "PI = 3.14159265\n",
    "d2r = PI/180\n",
    "L = symbols('duh L1 L2 L3 L4')\n",
    "\n",
    "Lc = symbols('dummy L_c1 L_c2 L_c3 L_c4')\n",
    "th = symbols('duh  theta1 theta2 theta3 theta4')\n",
    "\n",
    "display(L)\n",
    "display(th)\n",
    "\n",
    "DHT = [[L[1], -90*d2r, 0, th[1]],\n",
    "       [L[2], +90*d2r, 0, th[2]],\n",
    "       [L[3], -90*d2r, 0, th[3]],\n",
    "       [L[4],    0   , 0, th[4]]]\n",
    "\n",
    "def get_tf_mat (paramlist):\n",
    "    a = paramlist[0]\n",
    "    ap = paramlist[1]\n",
    "    d = paramlist[2]\n",
    "    th = paramlist[3]\n",
    "    cosap = cos(ap)\n",
    "    sinap = sin(ap)\n",
    "    if (abs(cos(ap))<1e-5):\n",
    "        cosap = 0\n",
    "        if ap<0:\n",
    "            sinap = -1\n",
    "        else:\n",
    "            sinap = 1\n",
    "    T = [[cos(th), -sin(th)*cosap, sin(th)*sinap, a*cos(th)],\n",
    "         [sin(th), cos(th)*cosap, -cos(th)*sinap, a*sin(th)],\n",
    "         [  0,        sinap,           cosap,        d     ],\n",
    "         [  0,           0,                 0,           1]]\n",
    "    T = Matrix(T)\n",
    "    return T\n",
    "\n",
    "#display(DHT)\n",
    "#display(get_tf_mat(DHT[0]))\n",
    "T01 = get_tf_mat(DHT[0])\n",
    "T12 = get_tf_mat(DHT[1])\n",
    "T02 = T01*T12\n",
    "T23 = get_tf_mat(DHT[2])\n",
    "T03 = T02*T23\n",
    "T34 = get_tf_mat(DHT[3])\n",
    "T04 = T03*T34\n",
    "print(\"T01\")\n",
    "display(T01)\n",
    "print(\"T02\")\n",
    "display(T02)\n",
    "print(\"T03\")\n",
    "display(T03)\n",
    "print(\"T04\")\n",
    "display(T04)\n",
    "\n",
    "Tmat = [None, T01, T02, T03, T04]\n",
    "\n",
    "\n",
    "Z0 = Matrix([0,0,1])\n",
    "Z1 = T01[0:3,2]\n",
    "Z2 = T02[0:3,2]\n",
    "Z3 = T03[0:3,2]\n",
    "Z4 = T04[0:3,2]\n",
    "\n",
    "\n",
    "P0 = Matrix([0,0,0])\n",
    "P1 = T01[0:3,3]\n",
    "P2 = T02[0:3,3]\n",
    "P3 = T03[0:3,3]\n",
    "P4 = T04[0:3,3]\n",
    "\n",
    "Zs = [Z0, Z1, Z2, Z3, Z4]\n",
    "Ps = [P0, P1, P2, P3, P4]\n",
    "\n",
    "J1 = zeros(6,4)\n",
    "J2 = zeros(6,4)\n",
    "J3 = zeros(6,4)\n",
    "J4 = zeros(6,4)\n",
    "\n",
    "Js = [None, J1, J2, J3, J4]\n",
    "\n",
    "\"\"\"for v in range(1,N_links+1):\n",
    "    for i in range(1,v+1):\n",
    "        Js[v][0:3,i-1] = Zs[i-1].cross(Ps[v]-Ps[i-1])\n",
    "        Js[v][3:6,i-1] = Zs[i-1]\"\"\"\n",
    "\n",
    "\n",
    "Jvc = [None]\n",
    "Jwc = [None]\n",
    "for v in range(1,N_links+1):\n",
    "    for i in range(1,v+1):\n",
    "        Js[v][0:3,i-1] = Zs[i-1].cross(Ps[v]-Ps[i-1])\n",
    "        Js[v][3:6,i-1] = Zs[i-1]\n",
    "    Jvc.append((Js[v][0:3,0:N_links]).subs({L[v]:Lc[v]}))\n",
    "    Jwc.append(Js[v][3:6,0:N_links])\n",
    "    \n",
    "    \n",
    "print(\"Jacobian\")\n",
    "for i in range(1,N_links+1):\n",
    "    print(\"J\"+str(i))\n",
    "    display(Js[i])\n",
    "    print(\"Jvc\"+str(i))\n",
    "    display(Jvc[i])\n",
    "    print(\"Jwc\"+str(i))\n",
    "    display(Jwc[i])\n",
    "\n",
    "\n",
    "\n",
    "\n",
    "\n",
    "\n",
    "\n"
   ]
  },
  {
   "cell_type": "code",
   "execution_count": 3,
   "metadata": {
    "collapsed": true
   },
   "outputs": [],
   "source": [
    "def get_inertia_tensor (limx, limy, limz):\n",
    "    #INERTIA TENSORS\n",
    "    x,y,z,rho =  symbols('x y z rho')\n",
    "\n",
    "    ixx = rho*(y*y + z*z)\n",
    "    iyy = rho*(x*x + z*z)\n",
    "    izz = rho*(x*x + y*y)\n",
    "    ixy = -rho*x*y\n",
    "    iyz = -rho*y*z\n",
    "    izx = -rho*z*x\n",
    "\n",
    "    Ixx = integrate(ixx,(x, limx[0], limx[1]),(y,limy[0],\n",
    "                         limy[1]),(z,limz[0], limz[1]))\n",
    "    Iyy = integrate(iyy,(x, limx[0], limx[1]),(y,limy[0],\n",
    "                         limy[1]),(z,limz[0], limz[1]))\n",
    "    Izz = integrate(izz,(x, limx[0], limx[1]),(y,limy[0],\n",
    "                         limy[1]),(z,limz[0], limz[1]))\n",
    "    Ixy = integrate(ixy,(x, limx[0], limx[1]),(y,limy[0],\n",
    "                         limy[1]),(z,limz[0], limz[1]))\n",
    "    Iyz = integrate(iyz,(x, limx[0], limx[1]),(y,limy[0],\n",
    "                         limy[1]),(z,limz[0], limz[1]))\n",
    "    Izx = integrate(izx,(x, limx[0], limx[1]),(y,limy[0],\n",
    "                         limy[1]),(z,limz[0], limz[1]))\n",
    "\n",
    "    #Ixx,Iyy,Izz,Ixy,Iyz,Izx = symbols(\"I_xx I_yy I_zz I_xy I_yz I_zx\")\n",
    "\n",
    "    I = Matrix([[Ixx, Ixy, Izx],\n",
    "                [Ixy, Iyy, Iyz],\n",
    "                [Izx, Iyz, Izz]])\n",
    "    return I"
   ]
  },
  {
   "cell_type": "code",
   "execution_count": 4,
   "metadata": {},
   "outputs": [
    {
     "data": {
      "text/latex": [
       "$$\\left[\\begin{matrix}\\frac{L_{1} \\rho}{6} w^{4} & 0 & 0\\\\0 & \\frac{L_{1}^{3} \\rho}{12} w^{2} + \\frac{L_{1} \\rho}{12} w^{4} & 0\\\\0 & 0 & w \\left(\\frac{\\rho w}{12} L_{1}^{3} + \\frac{L_{1} \\rho}{12} w^{3}\\right)\\end{matrix}\\right]$$"
      ],
      "text/plain": [
       "⎡      4                                           ⎤\n",
       "⎢L₁⋅ρ⋅w                                            ⎥\n",
       "⎢───────          0                     0          ⎥\n",
       "⎢   6                                              ⎥\n",
       "⎢                                                  ⎥\n",
       "⎢           3    2         4                       ⎥\n",
       "⎢         L₁ ⋅ρ⋅w    L₁⋅ρ⋅w                        ⎥\n",
       "⎢   0     ──────── + ───────            0          ⎥\n",
       "⎢            12         12                         ⎥\n",
       "⎢                                                  ⎥\n",
       "⎢                               ⎛  3             3⎞⎥\n",
       "⎢                               ⎜L₁ ⋅ρ⋅w   L₁⋅ρ⋅w ⎟⎥\n",
       "⎢   0             0           w⋅⎜─────── + ───────⎟⎥\n",
       "⎣                               ⎝   12        12  ⎠⎦"
      ]
     },
     "metadata": {},
     "output_type": "display_data"
    }
   ],
   "source": [
    "w = symbols('w')\n",
    "I = [None]\n",
    "for i in range(1,N_links+1):\n",
    "    I.append(get_inertia_tensor([-L[i]/2, +L[i]/2],[-w/2,+w/2],[-w/2,+w/2]))\n",
    "\n",
    "display(I[1])\n",
    "#I1 = I[1].subs({'w':1,L[1]:6,\"rho\":10})\n",
    "#display(I1)\n"
   ]
  },
  {
   "cell_type": "code",
   "execution_count": 5,
   "metadata": {},
   "outputs": [
    {
     "data": {
      "text/latex": [
       "$$\\left[\\begin{matrix}\\theta_{1}\\\\\\theta_{2}\\\\\\theta_{3}\\\\\\theta_{4}\\end{matrix}\\right]$$"
      ],
      "text/plain": [
       "⎡θ₁⎤\n",
       "⎢  ⎥\n",
       "⎢θ₂⎥\n",
       "⎢  ⎥\n",
       "⎢θ₃⎥\n",
       "⎢  ⎥\n",
       "⎣θ₄⎦"
      ]
     },
     "metadata": {},
     "output_type": "display_data"
    },
    {
     "data": {
      "text/latex": [
       "$$\\left[\\begin{matrix}\\left(- \\sin{\\left (\\theta_{1} \\right )} \\sin{\\left (\\theta_{3} \\right )} + \\cos{\\left (\\theta_{1} \\right )} \\cos{\\left (\\theta_{2} \\right )} \\cos{\\left (\\theta_{3} \\right )}\\right) \\cos{\\left (\\theta_{4} \\right )} - \\sin{\\left (\\theta_{2} \\right )} \\sin{\\left (\\theta_{4} \\right )} \\cos{\\left (\\theta_{1} \\right )} & - \\left(- \\sin{\\left (\\theta_{1} \\right )} \\sin{\\left (\\theta_{3} \\right )} + \\cos{\\left (\\theta_{1} \\right )} \\cos{\\left (\\theta_{2} \\right )} \\cos{\\left (\\theta_{3} \\right )}\\right) \\sin{\\left (\\theta_{4} \\right )} - \\sin{\\left (\\theta_{2} \\right )} \\cos{\\left (\\theta_{1} \\right )} \\cos{\\left (\\theta_{4} \\right )} & - \\sin{\\left (\\theta_{1} \\right )} \\cos{\\left (\\theta_{3} \\right )} - \\sin{\\left (\\theta_{3} \\right )} \\cos{\\left (\\theta_{1} \\right )} \\cos{\\left (\\theta_{2} \\right )} & L_{1} \\cos{\\left (\\theta_{1} \\right )} + L_{2} \\cos{\\left (\\theta_{1} \\right )} \\cos{\\left (\\theta_{2} \\right )} - L_{3} \\sin{\\left (\\theta_{1} \\right )} \\sin{\\left (\\theta_{3} \\right )} + L_{3} \\cos{\\left (\\theta_{1} \\right )} \\cos{\\left (\\theta_{2} \\right )} \\cos{\\left (\\theta_{3} \\right )} + L_{4} \\left(- \\sin{\\left (\\theta_{1} \\right )} \\sin{\\left (\\theta_{3} \\right )} + \\cos{\\left (\\theta_{1} \\right )} \\cos{\\left (\\theta_{2} \\right )} \\cos{\\left (\\theta_{3} \\right )}\\right) \\cos{\\left (\\theta_{4} \\right )} - L_{4} \\sin{\\left (\\theta_{2} \\right )} \\sin{\\left (\\theta_{4} \\right )} \\cos{\\left (\\theta_{1} \\right )}\\\\\\left(\\sin{\\left (\\theta_{1} \\right )} \\cos{\\left (\\theta_{2} \\right )} \\cos{\\left (\\theta_{3} \\right )} + \\sin{\\left (\\theta_{3} \\right )} \\cos{\\left (\\theta_{1} \\right )}\\right) \\cos{\\left (\\theta_{4} \\right )} - \\sin{\\left (\\theta_{1} \\right )} \\sin{\\left (\\theta_{2} \\right )} \\sin{\\left (\\theta_{4} \\right )} & - \\left(\\sin{\\left (\\theta_{1} \\right )} \\cos{\\left (\\theta_{2} \\right )} \\cos{\\left (\\theta_{3} \\right )} + \\sin{\\left (\\theta_{3} \\right )} \\cos{\\left (\\theta_{1} \\right )}\\right) \\sin{\\left (\\theta_{4} \\right )} - \\sin{\\left (\\theta_{1} \\right )} \\sin{\\left (\\theta_{2} \\right )} \\cos{\\left (\\theta_{4} \\right )} & - \\sin{\\left (\\theta_{1} \\right )} \\sin{\\left (\\theta_{3} \\right )} \\cos{\\left (\\theta_{2} \\right )} + \\cos{\\left (\\theta_{1} \\right )} \\cos{\\left (\\theta_{3} \\right )} & L_{1} \\sin{\\left (\\theta_{1} \\right )} + L_{2} \\sin{\\left (\\theta_{1} \\right )} \\cos{\\left (\\theta_{2} \\right )} + L_{3} \\sin{\\left (\\theta_{1} \\right )} \\cos{\\left (\\theta_{2} \\right )} \\cos{\\left (\\theta_{3} \\right )} + L_{3} \\sin{\\left (\\theta_{3} \\right )} \\cos{\\left (\\theta_{1} \\right )} + L_{4} \\left(\\sin{\\left (\\theta_{1} \\right )} \\cos{\\left (\\theta_{2} \\right )} \\cos{\\left (\\theta_{3} \\right )} + \\sin{\\left (\\theta_{3} \\right )} \\cos{\\left (\\theta_{1} \\right )}\\right) \\cos{\\left (\\theta_{4} \\right )} - L_{4} \\sin{\\left (\\theta_{1} \\right )} \\sin{\\left (\\theta_{2} \\right )} \\sin{\\left (\\theta_{4} \\right )}\\\\- \\sin{\\left (\\theta_{2} \\right )} \\cos{\\left (\\theta_{3} \\right )} \\cos{\\left (\\theta_{4} \\right )} - \\sin{\\left (\\theta_{4} \\right )} \\cos{\\left (\\theta_{2} \\right )} & \\sin{\\left (\\theta_{2} \\right )} \\sin{\\left (\\theta_{4} \\right )} \\cos{\\left (\\theta_{3} \\right )} - \\cos{\\left (\\theta_{2} \\right )} \\cos{\\left (\\theta_{4} \\right )} & \\sin{\\left (\\theta_{2} \\right )} \\sin{\\left (\\theta_{3} \\right )} & - L_{2} \\sin{\\left (\\theta_{2} \\right )} - L_{3} \\sin{\\left (\\theta_{2} \\right )} \\cos{\\left (\\theta_{3} \\right )} - L_{4} \\sin{\\left (\\theta_{2} \\right )} \\cos{\\left (\\theta_{3} \\right )} \\cos{\\left (\\theta_{4} \\right )} - L_{4} \\sin{\\left (\\theta_{4} \\right )} \\cos{\\left (\\theta_{2} \\right )}\\\\0 & 0 & 0 & 1\\end{matrix}\\right]$$"
      ],
      "text/plain": [
       "⎡(-sin(θ₁)⋅sin(θ₃) + cos(θ₁)⋅cos(θ₂)⋅cos(θ₃))⋅cos(θ₄) - sin(θ₂)⋅sin(θ₄)⋅cos(θ₁\n",
       "⎢                                                                             \n",
       "⎢(sin(θ₁)⋅cos(θ₂)⋅cos(θ₃) + sin(θ₃)⋅cos(θ₁))⋅cos(θ₄) - sin(θ₁)⋅sin(θ₂)⋅sin(θ₄)\n",
       "⎢                                                                             \n",
       "⎢                  -sin(θ₂)⋅cos(θ₃)⋅cos(θ₄) - sin(θ₄)⋅cos(θ₂)                 \n",
       "⎢                                                                             \n",
       "⎣                                      0                                      \n",
       "\n",
       ")  -(-sin(θ₁)⋅sin(θ₃) + cos(θ₁)⋅cos(θ₂)⋅cos(θ₃))⋅sin(θ₄) - sin(θ₂)⋅cos(θ₁)⋅cos\n",
       "                                                                              \n",
       "   -(sin(θ₁)⋅cos(θ₂)⋅cos(θ₃) + sin(θ₃)⋅cos(θ₁))⋅sin(θ₄) - sin(θ₁)⋅sin(θ₂)⋅cos(\n",
       "                                                                              \n",
       "                      sin(θ₂)⋅sin(θ₄)⋅cos(θ₃) - cos(θ₂)⋅cos(θ₄)               \n",
       "                                                                              \n",
       "                                          0                                   \n",
       "\n",
       "(θ₄)  -sin(θ₁)⋅cos(θ₃) - sin(θ₃)⋅cos(θ₁)⋅cos(θ₂)  L₁⋅cos(θ₁) + L₂⋅cos(θ₁)⋅cos(\n",
       "                                                                              \n",
       "θ₄)   -sin(θ₁)⋅sin(θ₃)⋅cos(θ₂) + cos(θ₁)⋅cos(θ₃)  L₁⋅sin(θ₁) + L₂⋅sin(θ₁)⋅cos(\n",
       "                                                                              \n",
       "                   sin(θ₂)⋅sin(θ₃)                                            \n",
       "                                                                              \n",
       "                          0                                                   \n",
       "\n",
       "θ₂) - L₃⋅sin(θ₁)⋅sin(θ₃) + L₃⋅cos(θ₁)⋅cos(θ₂)⋅cos(θ₃) + L₄⋅(-sin(θ₁)⋅sin(θ₃) +\n",
       "                                                                              \n",
       "θ₂) + L₃⋅sin(θ₁)⋅cos(θ₂)⋅cos(θ₃) + L₃⋅sin(θ₃)⋅cos(θ₁) + L₄⋅(sin(θ₁)⋅cos(θ₂)⋅co\n",
       "                                                                              \n",
       "               -L₂⋅sin(θ₂) - L₃⋅sin(θ₂)⋅cos(θ₃) - L₄⋅sin(θ₂)⋅cos(θ₃)⋅cos(θ₄) -\n",
       "                                                                              \n",
       "                                                       1                      \n",
       "\n",
       " cos(θ₁)⋅cos(θ₂)⋅cos(θ₃))⋅cos(θ₄) - L₄⋅sin(θ₂)⋅sin(θ₄)⋅cos(θ₁)⎤\n",
       "                                                              ⎥\n",
       "s(θ₃) + sin(θ₃)⋅cos(θ₁))⋅cos(θ₄) - L₄⋅sin(θ₁)⋅sin(θ₂)⋅sin(θ₄) ⎥\n",
       "                                                              ⎥\n",
       " L₄⋅sin(θ₄)⋅cos(θ₂)                                           ⎥\n",
       "                                                              ⎥\n",
       "                                                              ⎦"
      ]
     },
     "metadata": {},
     "output_type": "display_data"
    },
    {
     "data": {
      "text/latex": [
       "$$\\sin{\\left (\\theta_{2} \\right )} \\sin{\\left (\\theta_{3} \\right )} \\cos{\\left (\\theta_{4} \\right )}$$"
      ],
      "text/plain": [
       "sin(θ₂)⋅sin(θ₃)⋅cos(θ₄)"
      ]
     },
     "metadata": {},
     "output_type": "display_data"
    }
   ],
   "source": [
    "q = Matrix([th[i] for i in range(1,5)])\n",
    "display(q)\n",
    "display(Tmat[4])\n",
    "display(Tmat[4][2,0].diff(q[2]))"
   ]
  },
  {
   "cell_type": "code",
   "execution_count": 6,
   "metadata": {},
   "outputs": [
    {
     "name": "stdout",
     "output_type": "stream",
     "text": [
      "D\n"
     ]
    }
   ],
   "source": [
    "M = symbols(\"dummy M1 M2 M3 M4\")\n",
    "for i in range(1,N_links+1):\n",
    "    Ri = Tmat[i][0:3,0:3]\n",
    "    if i==1:\n",
    "        D = M[i]*Transpose(Jvc[i])*Jvc[i] + Transpose(Jwc[i])*Ri*I[i]*Transpose(Ri)*Jwc[i]\n",
    "    else:\n",
    "        D = D + M[i]*Transpose(Jvc[i])*Jvc[i] + Transpose(Jwc[i])*Ri*I[i]*Transpose(Ri)*Jwc[i]\n",
    "\n",
    "print(\"D\")\n",
    "#display(D)"
   ]
  },
  {
   "cell_type": "code",
   "execution_count": 7,
   "metadata": {},
   "outputs": [
    {
     "data": {
      "text/latex": [
       "$$\\left ( 4, \\quad 4\\right )$$"
      ],
      "text/plain": [
       "(4, 4)"
      ]
     },
     "execution_count": 7,
     "metadata": {},
     "output_type": "execute_result"
    }
   ],
   "source": [
    "D.shape"
   ]
  },
  {
   "cell_type": "code",
   "execution_count": 8,
   "metadata": {},
   "outputs": [
    {
     "data": {
      "text/latex": [
       "$$\\left[\\begin{matrix}\\frac{L_{1} \\rho}{6} w^{4} & 0 & 0\\\\0 & \\frac{L_{1}^{3} \\rho}{12} w^{2} + \\frac{L_{1} \\rho}{12} w^{4} & 0\\\\0 & 0 & w \\left(\\frac{\\rho w}{12} L_{1}^{3} + \\frac{L_{1} \\rho}{12} w^{3}\\right)\\end{matrix}\\right]$$"
      ],
      "text/plain": [
       "⎡      4                                           ⎤\n",
       "⎢L₁⋅ρ⋅w                                            ⎥\n",
       "⎢───────          0                     0          ⎥\n",
       "⎢   6                                              ⎥\n",
       "⎢                                                  ⎥\n",
       "⎢           3    2         4                       ⎥\n",
       "⎢         L₁ ⋅ρ⋅w    L₁⋅ρ⋅w                        ⎥\n",
       "⎢   0     ──────── + ───────            0          ⎥\n",
       "⎢            12         12                         ⎥\n",
       "⎢                                                  ⎥\n",
       "⎢                               ⎛  3             3⎞⎥\n",
       "⎢                               ⎜L₁ ⋅ρ⋅w   L₁⋅ρ⋅w ⎟⎥\n",
       "⎢   0             0           w⋅⎜─────── + ───────⎟⎥\n",
       "⎣                               ⎝   12        12  ⎠⎦"
      ]
     },
     "metadata": {},
     "output_type": "display_data"
    },
    {
     "data": {
      "text/latex": [
       "$$\\frac{2 L_{1}}{3} \\rho w^{3}$$"
      ],
      "text/plain": [
       "        3\n",
       "2⋅L₁⋅ρ⋅w \n",
       "─────────\n",
       "    3    "
      ]
     },
     "metadata": {},
     "output_type": "display_data"
    },
    {
     "data": {
      "text/latex": [
       "$$\\frac{\\rho w^{4}}{6}$$"
      ],
      "text/plain": [
       "   4\n",
       "ρ⋅w \n",
       "────\n",
       " 6  "
      ]
     },
     "metadata": {},
     "output_type": "display_data"
    }
   ],
   "source": [
    "display(I[1])\n",
    "s = I[1][0,0]\n",
    "sw  =  s.diff('w')\n",
    "sL  = s.diff('L1')\n",
    "display(sw)\n",
    "display(sL)"
   ]
  },
  {
   "cell_type": "code",
   "execution_count": null,
   "metadata": {
    "collapsed": true
   },
   "outputs": [],
   "source": []
  },
  {
   "cell_type": "code",
   "execution_count": 9,
   "metadata": {
    "collapsed": true
   },
   "outputs": [],
   "source": [
    "#CALCULATE C\n",
    "C = []\n",
    "for k in range(N_links):\n",
    "    C.append(zeros(N_links,N_links))\n",
    "    for i in range(N_links):\n",
    "        for j in range(i, N_links):\n",
    "            C[k][i,j] = (D[k,j].diff(q[i])+D[k,i].diff(q[k]) - D[i,j].diff(q[j]))\n",
    "            C[k][j,i] = C[k][i,j]"
   ]
  },
  {
   "cell_type": "code",
   "execution_count": null,
   "metadata": {},
   "outputs": [],
   "source": [
    "C[0].shape\n",
    "display(C[0])"
   ]
  },
  {
   "cell_type": "code",
   "execution_count": 87,
   "metadata": {},
   "outputs": [
    {
     "data": {
      "text/latex": [
       "$$\\left(\\left[\\begin{matrix}1\\\\1\\end{matrix}\\right]\\right)^T$$"
      ],
      "text/plain": [
       "     T\n",
       "⎛⎡1⎤⎞ \n",
       "⎜⎢ ⎥⎟ \n",
       "⎝⎣1⎦⎠ "
      ]
     },
     "metadata": {},
     "output_type": "display_data"
    },
    {
     "data": {
      "text/latex": [
       "$$\\left[\\begin{matrix}1 & 2\\\\3 & 1\\end{matrix}\\right]$$"
      ],
      "text/plain": [
       "⎡1  2⎤\n",
       "⎢    ⎥\n",
       "⎣3  1⎦"
      ]
     },
     "metadata": {},
     "output_type": "display_data"
    },
    {
     "data": {
      "text/latex": [
       "$$\\left[\\begin{matrix}1 & 2\\\\1 & 2\\\\3 & 1\\\\3 & 1\\end{matrix}\\right]$$"
      ],
      "text/plain": [
       "⎡1  2⎤\n",
       "⎢    ⎥\n",
       "⎢1  2⎥\n",
       "⎢    ⎥\n",
       "⎢3  1⎥\n",
       "⎢    ⎥\n",
       "⎣3  1⎦"
      ]
     },
     "metadata": {},
     "output_type": "display_data"
    },
    {
     "ename": "ShapeError",
     "evalue": "Matrix size mismatch: (1, 2) * (4, 2).",
     "output_type": "error",
     "traceback": [
      "\u001b[0;31m---------------------------------------------------------------------------\u001b[0m",
      "\u001b[0;31mShapeError\u001b[0m                                Traceback (most recent call last)",
      "\u001b[0;32m<ipython-input-87-6d4ac2fe0b7b>\u001b[0m in \u001b[0;36m<module>\u001b[0;34m()\u001b[0m\n\u001b[1;32m      7\u001b[0m \u001b[0mtp\u001b[0m \u001b[0;34m=\u001b[0m \u001b[0mTensorProduct\u001b[0m\u001b[0;34m(\u001b[0m\u001b[0mmat1\u001b[0m\u001b[0;34m,\u001b[0m\u001b[0mu\u001b[0m\u001b[0;34m)\u001b[0m\u001b[0;34m\u001b[0m\u001b[0m\n\u001b[1;32m      8\u001b[0m \u001b[0mdisplay\u001b[0m\u001b[0;34m(\u001b[0m\u001b[0mtp\u001b[0m\u001b[0;34m)\u001b[0m\u001b[0;34m\u001b[0m\u001b[0m\n\u001b[0;32m----> 9\u001b[0;31m \u001b[0mdisplay\u001b[0m\u001b[0;34m(\u001b[0m\u001b[0mut\u001b[0m\u001b[0;34m*\u001b[0m\u001b[0mtp\u001b[0m\u001b[0;34m)\u001b[0m\u001b[0;34m\u001b[0m\u001b[0m\n\u001b[0m",
      "\u001b[0;32m~/anaconda3/envs/deep_learning/lib/python3.5/site-packages/sympy/core/decorators.py\u001b[0m in \u001b[0;36mbinary_op_wrapper\u001b[0;34m(self, other)\u001b[0m\n\u001b[1;32m    130\u001b[0m                     \u001b[0;32melse\u001b[0m\u001b[0;34m:\u001b[0m\u001b[0;34m\u001b[0m\u001b[0m\n\u001b[1;32m    131\u001b[0m                         \u001b[0;32mreturn\u001b[0m \u001b[0mf\u001b[0m\u001b[0;34m(\u001b[0m\u001b[0mself\u001b[0m\u001b[0;34m)\u001b[0m\u001b[0;34m\u001b[0m\u001b[0m\n\u001b[0;32m--> 132\u001b[0;31m             \u001b[0;32mreturn\u001b[0m \u001b[0mfunc\u001b[0m\u001b[0;34m(\u001b[0m\u001b[0mself\u001b[0m\u001b[0;34m,\u001b[0m \u001b[0mother\u001b[0m\u001b[0;34m)\u001b[0m\u001b[0;34m\u001b[0m\u001b[0m\n\u001b[0m\u001b[1;32m    133\u001b[0m         \u001b[0;32mreturn\u001b[0m \u001b[0mbinary_op_wrapper\u001b[0m\u001b[0;34m\u001b[0m\u001b[0m\n\u001b[1;32m    134\u001b[0m     \u001b[0;32mreturn\u001b[0m \u001b[0mpriority_decorator\u001b[0m\u001b[0;34m\u001b[0m\u001b[0m\n",
      "\u001b[0;32m~/anaconda3/envs/deep_learning/lib/python3.5/site-packages/sympy/matrices/common.py\u001b[0m in \u001b[0;36m__mul__\u001b[0;34m(self, other)\u001b[0m\n\u001b[1;32m   2006\u001b[0m             \u001b[0;32mif\u001b[0m \u001b[0mself\u001b[0m\u001b[0;34m.\u001b[0m\u001b[0mshape\u001b[0m\u001b[0;34m[\u001b[0m\u001b[0;36m1\u001b[0m\u001b[0;34m]\u001b[0m \u001b[0;34m!=\u001b[0m \u001b[0mother\u001b[0m\u001b[0;34m.\u001b[0m\u001b[0mshape\u001b[0m\u001b[0;34m[\u001b[0m\u001b[0;36m0\u001b[0m\u001b[0;34m]\u001b[0m\u001b[0;34m:\u001b[0m\u001b[0;34m\u001b[0m\u001b[0m\n\u001b[1;32m   2007\u001b[0m                 raise ShapeError(\"Matrix size mismatch: %s * %s.\" % (\n\u001b[0;32m-> 2008\u001b[0;31m                     self.shape, other.shape))\n\u001b[0m\u001b[1;32m   2009\u001b[0m \u001b[0;34m\u001b[0m\u001b[0m\n\u001b[1;32m   2010\u001b[0m         \u001b[0;31m# honest sympy matrices defer to their class's routine\u001b[0m\u001b[0;34m\u001b[0m\u001b[0;34m\u001b[0m\u001b[0m\n",
      "\u001b[0;31mShapeError\u001b[0m: Matrix size mismatch: (1, 2) * (4, 2)."
     ]
    }
   ],
   "source": [
    "from sympy.physics.quantum import TensorProduct\n",
    "mat1 = Matrix([[1,2],[3,1]])\n",
    "u = Matrix([1,1])\n",
    "display(Transpose(u))\n",
    "display(mat1)\n",
    "ut = Matrix(Transpose(u))\n",
    "tp = TensorProduct(mat1,u)\n",
    "display(tp)\n",
    "display(ut*tp)"
   ]
  },
  {
   "cell_type": "code",
   "execution_count": null,
   "metadata": {
    "collapsed": true
   },
   "outputs": [],
   "source": []
  }
 ],
 "metadata": {
  "kernelspec": {
   "display_name": "Python 3",
   "language": "python",
   "name": "python3"
  },
  "language_info": {
   "codemirror_mode": {
    "name": "ipython",
    "version": 3
   },
   "file_extension": ".py",
   "mimetype": "text/x-python",
   "name": "python",
   "nbconvert_exporter": "python",
   "pygments_lexer": "ipython3",
   "version": "3.5.4"
  }
 },
 "nbformat": 4,
 "nbformat_minor": 2
}
